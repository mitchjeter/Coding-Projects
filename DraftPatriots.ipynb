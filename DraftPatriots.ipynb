{
 "cells": [
  {
   "cell_type": "code",
   "execution_count": 2,
   "id": "826a3613-5029-4bcd-974c-59b4f38750c9",
   "metadata": {},
   "outputs": [],
   "source": [
    "import pandas as pd "
   ]
  },
  {
   "cell_type": "code",
   "execution_count": 14,
   "id": "9bda517b-9232-438c-9251-54028d5ba42d",
   "metadata": {},
   "outputs": [
    {
     "data": {
      "text/html": [
       "<div>\n",
       "<style scoped>\n",
       "    .dataframe tbody tr th:only-of-type {\n",
       "        vertical-align: middle;\n",
       "    }\n",
       "\n",
       "    .dataframe tbody tr th {\n",
       "        vertical-align: top;\n",
       "    }\n",
       "\n",
       "    .dataframe thead th {\n",
       "        text-align: right;\n",
       "    }\n",
       "</style>\n",
       "<table border=\"1\" class=\"dataframe\">\n",
       "  <thead>\n",
       "    <tr style=\"text-align: right;\">\n",
       "      <th></th>\n",
       "      <th>Year</th>\n",
       "      <th>Rnd</th>\n",
       "      <th>Pick</th>\n",
       "      <th>Pos</th>\n",
       "      <th>To</th>\n",
       "      <th>AP1</th>\n",
       "      <th>PB</th>\n",
       "      <th>St</th>\n",
       "      <th>wAV</th>\n",
       "      <th>G</th>\n",
       "      <th>...</th>\n",
       "      <th>Att.1</th>\n",
       "      <th>Yds.1</th>\n",
       "      <th>TD.1</th>\n",
       "      <th>Rec</th>\n",
       "      <th>Yds.2</th>\n",
       "      <th>TD.2</th>\n",
       "      <th>Int.1</th>\n",
       "      <th>Sk</th>\n",
       "      <th>College/Univ</th>\n",
       "      <th>-9999</th>\n",
       "    </tr>\n",
       "    <tr>\n",
       "      <th>Player</th>\n",
       "      <th></th>\n",
       "      <th></th>\n",
       "      <th></th>\n",
       "      <th></th>\n",
       "      <th></th>\n",
       "      <th></th>\n",
       "      <th></th>\n",
       "      <th></th>\n",
       "      <th></th>\n",
       "      <th></th>\n",
       "      <th></th>\n",
       "      <th></th>\n",
       "      <th></th>\n",
       "      <th></th>\n",
       "      <th></th>\n",
       "      <th></th>\n",
       "      <th></th>\n",
       "      <th></th>\n",
       "      <th></th>\n",
       "      <th></th>\n",
       "      <th></th>\n",
       "    </tr>\n",
       "  </thead>\n",
       "  <tbody>\n",
       "    <tr>\n",
       "      <th>Drake Maye</th>\n",
       "      <td>2024</td>\n",
       "      <td>1</td>\n",
       "      <td>3</td>\n",
       "      <td>QB</td>\n",
       "      <td>2024.0</td>\n",
       "      <td>0</td>\n",
       "      <td>0</td>\n",
       "      <td>1</td>\n",
       "      <td>0.0</td>\n",
       "      <td>9.0</td>\n",
       "      <td>...</td>\n",
       "      <td>38.0</td>\n",
       "      <td>345.0</td>\n",
       "      <td>1.0</td>\n",
       "      <td>NaN</td>\n",
       "      <td>NaN</td>\n",
       "      <td>0.0</td>\n",
       "      <td>NaN</td>\n",
       "      <td>NaN</td>\n",
       "      <td>North Carolina</td>\n",
       "      <td>MayeDr00</td>\n",
       "    </tr>\n",
       "    <tr>\n",
       "      <th>Ja'Lynn Polk</th>\n",
       "      <td>2024</td>\n",
       "      <td>2</td>\n",
       "      <td>37</td>\n",
       "      <td>WR</td>\n",
       "      <td>2024.0</td>\n",
       "      <td>0</td>\n",
       "      <td>0</td>\n",
       "      <td>1</td>\n",
       "      <td>0.0</td>\n",
       "      <td>12.0</td>\n",
       "      <td>...</td>\n",
       "      <td>1.0</td>\n",
       "      <td>0.0</td>\n",
       "      <td>0.0</td>\n",
       "      <td>12.0</td>\n",
       "      <td>87.0</td>\n",
       "      <td>2.0</td>\n",
       "      <td>NaN</td>\n",
       "      <td>NaN</td>\n",
       "      <td>Washington</td>\n",
       "      <td>PolkJa00</td>\n",
       "    </tr>\n",
       "    <tr>\n",
       "      <th>Caedan Wallace</th>\n",
       "      <td>2024</td>\n",
       "      <td>3</td>\n",
       "      <td>68</td>\n",
       "      <td>OL</td>\n",
       "      <td>2024.0</td>\n",
       "      <td>0</td>\n",
       "      <td>0</td>\n",
       "      <td>0</td>\n",
       "      <td>0.0</td>\n",
       "      <td>4.0</td>\n",
       "      <td>...</td>\n",
       "      <td>NaN</td>\n",
       "      <td>NaN</td>\n",
       "      <td>0.0</td>\n",
       "      <td>NaN</td>\n",
       "      <td>NaN</td>\n",
       "      <td>0.0</td>\n",
       "      <td>NaN</td>\n",
       "      <td>NaN</td>\n",
       "      <td>Penn St.</td>\n",
       "      <td>WallCa00</td>\n",
       "    </tr>\n",
       "    <tr>\n",
       "      <th>Layden Robinson</th>\n",
       "      <td>2024</td>\n",
       "      <td>4</td>\n",
       "      <td>103</td>\n",
       "      <td>OL</td>\n",
       "      <td>2024.0</td>\n",
       "      <td>0</td>\n",
       "      <td>0</td>\n",
       "      <td>1</td>\n",
       "      <td>0.0</td>\n",
       "      <td>9.0</td>\n",
       "      <td>...</td>\n",
       "      <td>NaN</td>\n",
       "      <td>NaN</td>\n",
       "      <td>0.0</td>\n",
       "      <td>NaN</td>\n",
       "      <td>NaN</td>\n",
       "      <td>0.0</td>\n",
       "      <td>NaN</td>\n",
       "      <td>NaN</td>\n",
       "      <td>Texas A&amp;M</td>\n",
       "      <td>RobiLa02</td>\n",
       "    </tr>\n",
       "    <tr>\n",
       "      <th>Javon Baker</th>\n",
       "      <td>2024</td>\n",
       "      <td>4</td>\n",
       "      <td>110</td>\n",
       "      <td>WR</td>\n",
       "      <td>2024.0</td>\n",
       "      <td>0</td>\n",
       "      <td>0</td>\n",
       "      <td>0</td>\n",
       "      <td>0.0</td>\n",
       "      <td>8.0</td>\n",
       "      <td>...</td>\n",
       "      <td>NaN</td>\n",
       "      <td>NaN</td>\n",
       "      <td>0.0</td>\n",
       "      <td>0.0</td>\n",
       "      <td>0.0</td>\n",
       "      <td>0.0</td>\n",
       "      <td>NaN</td>\n",
       "      <td>NaN</td>\n",
       "      <td>Central Florida</td>\n",
       "      <td>BakeJa00</td>\n",
       "    </tr>\n",
       "  </tbody>\n",
       "</table>\n",
       "<p>5 rows × 25 columns</p>\n",
       "</div>"
      ],
      "text/plain": [
       "                 Year  Rnd  Pick Pos      To  AP1  PB  St  wAV     G  ...  \\\n",
       "Player                                                                ...   \n",
       "Drake Maye       2024    1     3  QB  2024.0    0   0   1  0.0   9.0  ...   \n",
       "Ja'Lynn Polk     2024    2    37  WR  2024.0    0   0   1  0.0  12.0  ...   \n",
       "Caedan Wallace   2024    3    68  OL  2024.0    0   0   0  0.0   4.0  ...   \n",
       "Layden Robinson  2024    4   103  OL  2024.0    0   0   1  0.0   9.0  ...   \n",
       "Javon Baker      2024    4   110  WR  2024.0    0   0   0  0.0   8.0  ...   \n",
       "\n",
       "                 Att.1  Yds.1  TD.1   Rec  Yds.2  TD.2  Int.1  Sk  \\\n",
       "Player                                                              \n",
       "Drake Maye        38.0  345.0   1.0   NaN    NaN   0.0    NaN NaN   \n",
       "Ja'Lynn Polk       1.0    0.0   0.0  12.0   87.0   2.0    NaN NaN   \n",
       "Caedan Wallace     NaN    NaN   0.0   NaN    NaN   0.0    NaN NaN   \n",
       "Layden Robinson    NaN    NaN   0.0   NaN    NaN   0.0    NaN NaN   \n",
       "Javon Baker        NaN    NaN   0.0   0.0    0.0   0.0    NaN NaN   \n",
       "\n",
       "                    College/Univ     -9999  \n",
       "Player                                      \n",
       "Drake Maye        North Carolina  MayeDr00  \n",
       "Ja'Lynn Polk          Washington  PolkJa00  \n",
       "Caedan Wallace          Penn St.  WallCa00  \n",
       "Layden Robinson        Texas A&M  RobiLa02  \n",
       "Javon Baker      Central Florida  BakeJa00  \n",
       "\n",
       "[5 rows x 25 columns]"
      ]
     },
     "execution_count": 14,
     "metadata": {},
     "output_type": "execute_result"
    }
   ],
   "source": [
    "myDataFrame = pd.read_csv(\"./data/patriots.csv\", index_col= \"Player\")\n",
    "myDataFrame.head()"
   ]
  },
  {
   "cell_type": "code",
   "execution_count": 6,
   "id": "2a8872dc-e368-4307-94aa-370f728a5304",
   "metadata": {},
   "outputs": [
    {
     "data": {
      "text/plain": [
       "Player\n",
       "Drake Maye         QB\n",
       "Ja'Lynn Polk       WR\n",
       "Caedan Wallace     OL\n",
       "Layden Robinson    OL\n",
       "Javon Baker        WR\n",
       "                   ..\n",
       "Shaq Mason          C\n",
       "Joe Cardona        LS\n",
       "Matthew Wells      LB\n",
       "A.J. Derby         TE\n",
       "Darryl Roberts     CB\n",
       "Name: Pos, Length: 90, dtype: object"
      ]
     },
     "execution_count": 6,
     "metadata": {},
     "output_type": "execute_result"
    }
   ],
   "source": [
    "position = myDataFrame [\"Pos\"]\n",
    "position"
   ]
  },
  {
   "cell_type": "code",
   "execution_count": 8,
   "id": "ce541ea0-b37b-489b-b60e-5635d49421de",
   "metadata": {},
   "outputs": [
    {
     "data": {
      "text/plain": [
       "Player\n",
       "Drake Maye           9.0\n",
       "Ja'Lynn Polk        12.0\n",
       "Caedan Wallace       4.0\n",
       "Layden Robinson      9.0\n",
       "Javon Baker          8.0\n",
       "                   ...  \n",
       "Shaq Mason         150.0\n",
       "Joe Cardona        156.0\n",
       "Matthew Wells        NaN\n",
       "A.J. Derby          25.0\n",
       "Darryl Roberts      73.0\n",
       "Name: G, Length: 90, dtype: float64"
      ]
     },
     "execution_count": 8,
     "metadata": {},
     "output_type": "execute_result"
    }
   ],
   "source": [
    "games = myDataFrame [\"G\"]\n",
    "games"
   ]
  },
  {
   "cell_type": "code",
   "execution_count": 10,
   "id": "5646a58e-ef8e-4309-b1e9-7b9fd3688954",
   "metadata": {},
   "outputs": [
    {
     "data": {
      "text/plain": [
       "Player\n",
       "William Sherman    1.0\n",
       "Caedan Wallace     4.0\n",
       "Joshuah Bledsoe    4.0\n",
       "Andrew Stueber     4.0\n",
       "Dalton Keene       7.0\n",
       "Name: G, dtype: float64"
      ]
     },
     "execution_count": 10,
     "metadata": {},
     "output_type": "execute_result"
    }
   ],
   "source": [
    "sortedGames = games.sort_values()\n",
    "sortedGames.head()"
   ]
  },
  {
   "cell_type": "code",
   "execution_count": 12,
   "id": "631af88c-46aa-4e7a-a5cf-76b046bb4b8f",
   "metadata": {},
   "outputs": [
    {
     "data": {
      "text/plain": [
       "156.0"
      ]
     },
     "execution_count": 12,
     "metadata": {},
     "output_type": "execute_result"
    }
   ],
   "source": [
    "myDataFrame[\"G\"].max()"
   ]
  },
  {
   "cell_type": "code",
   "execution_count": 16,
   "id": "24f21ab8-b1d8-47d4-9683-afa499f11b38",
   "metadata": {},
   "outputs": [
    {
     "data": {
      "text/html": [
       "<div>\n",
       "<style scoped>\n",
       "    .dataframe tbody tr th:only-of-type {\n",
       "        vertical-align: middle;\n",
       "    }\n",
       "\n",
       "    .dataframe tbody tr th {\n",
       "        vertical-align: top;\n",
       "    }\n",
       "\n",
       "    .dataframe thead th {\n",
       "        text-align: right;\n",
       "    }\n",
       "</style>\n",
       "<table border=\"1\" class=\"dataframe\">\n",
       "  <thead>\n",
       "    <tr style=\"text-align: right;\">\n",
       "      <th></th>\n",
       "      <th>G</th>\n",
       "      <th>Pos</th>\n",
       "      <th>Rnd</th>\n",
       "      <th>Year</th>\n",
       "      <th>Pick</th>\n",
       "    </tr>\n",
       "    <tr>\n",
       "      <th>Player</th>\n",
       "      <th></th>\n",
       "      <th></th>\n",
       "      <th></th>\n",
       "      <th></th>\n",
       "      <th></th>\n",
       "    </tr>\n",
       "  </thead>\n",
       "  <tbody>\n",
       "    <tr>\n",
       "      <th>Drake Maye</th>\n",
       "      <td>9.0</td>\n",
       "      <td>QB</td>\n",
       "      <td>1</td>\n",
       "      <td>2024</td>\n",
       "      <td>3</td>\n",
       "    </tr>\n",
       "    <tr>\n",
       "      <th>Ja'Lynn Polk</th>\n",
       "      <td>12.0</td>\n",
       "      <td>WR</td>\n",
       "      <td>2</td>\n",
       "      <td>2024</td>\n",
       "      <td>37</td>\n",
       "    </tr>\n",
       "    <tr>\n",
       "      <th>Caedan Wallace</th>\n",
       "      <td>4.0</td>\n",
       "      <td>OL</td>\n",
       "      <td>3</td>\n",
       "      <td>2024</td>\n",
       "      <td>68</td>\n",
       "    </tr>\n",
       "    <tr>\n",
       "      <th>Layden Robinson</th>\n",
       "      <td>9.0</td>\n",
       "      <td>OL</td>\n",
       "      <td>4</td>\n",
       "      <td>2024</td>\n",
       "      <td>103</td>\n",
       "    </tr>\n",
       "    <tr>\n",
       "      <th>Javon Baker</th>\n",
       "      <td>8.0</td>\n",
       "      <td>WR</td>\n",
       "      <td>4</td>\n",
       "      <td>2024</td>\n",
       "      <td>110</td>\n",
       "    </tr>\n",
       "    <tr>\n",
       "      <th>...</th>\n",
       "      <td>...</td>\n",
       "      <td>...</td>\n",
       "      <td>...</td>\n",
       "      <td>...</td>\n",
       "      <td>...</td>\n",
       "    </tr>\n",
       "    <tr>\n",
       "      <th>Shaq Mason</th>\n",
       "      <td>150.0</td>\n",
       "      <td>C</td>\n",
       "      <td>4</td>\n",
       "      <td>2015</td>\n",
       "      <td>131</td>\n",
       "    </tr>\n",
       "    <tr>\n",
       "      <th>Joe Cardona</th>\n",
       "      <td>156.0</td>\n",
       "      <td>LS</td>\n",
       "      <td>5</td>\n",
       "      <td>2015</td>\n",
       "      <td>166</td>\n",
       "    </tr>\n",
       "    <tr>\n",
       "      <th>Matthew Wells</th>\n",
       "      <td>NaN</td>\n",
       "      <td>LB</td>\n",
       "      <td>6</td>\n",
       "      <td>2015</td>\n",
       "      <td>178</td>\n",
       "    </tr>\n",
       "    <tr>\n",
       "      <th>A.J. Derby</th>\n",
       "      <td>25.0</td>\n",
       "      <td>TE</td>\n",
       "      <td>6</td>\n",
       "      <td>2015</td>\n",
       "      <td>202</td>\n",
       "    </tr>\n",
       "    <tr>\n",
       "      <th>Darryl Roberts</th>\n",
       "      <td>73.0</td>\n",
       "      <td>CB</td>\n",
       "      <td>7</td>\n",
       "      <td>2015</td>\n",
       "      <td>247</td>\n",
       "    </tr>\n",
       "  </tbody>\n",
       "</table>\n",
       "<p>90 rows × 5 columns</p>\n",
       "</div>"
      ],
      "text/plain": [
       "                     G Pos  Rnd  Year  Pick\n",
       "Player                                     \n",
       "Drake Maye         9.0  QB    1  2024     3\n",
       "Ja'Lynn Polk      12.0  WR    2  2024    37\n",
       "Caedan Wallace     4.0  OL    3  2024    68\n",
       "Layden Robinson    9.0  OL    4  2024   103\n",
       "Javon Baker        8.0  WR    4  2024   110\n",
       "...                ...  ..  ...   ...   ...\n",
       "Shaq Mason       150.0   C    4  2015   131\n",
       "Joe Cardona      156.0  LS    5  2015   166\n",
       "Matthew Wells      NaN  LB    6  2015   178\n",
       "A.J. Derby        25.0  TE    6  2015   202\n",
       "Darryl Roberts    73.0  CB    7  2015   247\n",
       "\n",
       "[90 rows x 5 columns]"
      ]
     },
     "execution_count": 16,
     "metadata": {},
     "output_type": "execute_result"
    }
   ],
   "source": [
    "draft_columns = [ 'G', 'Pos', 'Rnd', 'Year', 'Pick']\n",
    "myDataFrame[draft_columns]"
   ]
  },
  {
   "cell_type": "code",
   "execution_count": 18,
   "id": "835d095c-cae4-4467-95f4-1a001f0f44ea",
   "metadata": {},
   "outputs": [
    {
     "name": "stdout",
     "output_type": "stream",
     "text": [
      "Rnd\n",
      "1    46.375000\n",
      "2    43.400000\n",
      "3    38.133333\n",
      "4    42.812500\n",
      "5    68.500000\n",
      "6    45.222222\n",
      "7    29.857143\n",
      "Name: G, dtype: float64\n"
     ]
    }
   ],
   "source": [
    "\n",
    "average_gamesround = myDataFrame.groupby(['Rnd'])['G'].mean()\n",
    "\n",
    "# Display the result\n",
    "print(average_gamesround)\n"
   ]
  },
  {
   "cell_type": "code",
   "execution_count": 20,
   "id": "b5a54d0a-68ff-47a8-9c33-460f3899b6a6",
   "metadata": {},
   "outputs": [
    {
     "name": "stdout",
     "output_type": "stream",
     "text": [
      "Pos\n",
      "C      150.000000\n",
      "CB      35.333333\n",
      "DB      22.750000\n",
      "DE      48.142857\n",
      "DL      38.000000\n",
      "DT      56.000000\n",
      "G       85.800000\n",
      "ILB    109.000000\n",
      "K       25.000000\n",
      "LB      37.000000\n",
      "LS     156.000000\n",
      "OL      13.250000\n",
      "OLB    127.000000\n",
      "P       58.500000\n",
      "QB      34.800000\n",
      "RB      42.600000\n",
      "S       53.333333\n",
      "T       39.500000\n",
      "TE      16.800000\n",
      "WR      30.125000\n",
      "Name: G, dtype: float64\n"
     ]
    }
   ],
   "source": [
    "\n",
    "average_gamesposition = myDataFrame.groupby(['Pos'])['G'].mean()\n",
    "\n",
    "# Display the result\n",
    "print(average_gamesposition)"
   ]
  },
  {
   "cell_type": "code",
   "execution_count": 62,
   "id": "59455815-5a06-4b07-88f5-57aa96d8dfce",
   "metadata": {},
   "outputs": [
    {
     "name": "stdout",
     "output_type": "stream",
     "text": [
      "Number of first-round picks: 8\n"
     ]
    }
   ],
   "source": [
    "# Filter for first-round picks\n",
    "first_round_picks = myDataFrame[myDataFrame['Rnd'] == 1]\n",
    "\n",
    "# Count the number of first-round picks\n",
    "num_first_round_picks = len(first_round_picks)\n",
    "\n",
    "print(f\"Number of first-round picks: {num_first_round_picks}\")\n"
   ]
  },
  {
   "cell_type": "code",
   "execution_count": 51,
   "id": "c700855a-9e69-4df7-9e57-717bae4f429f",
   "metadata": {},
   "outputs": [],
   "source": [
    "position_groups = {\n",
    "    'C': ('Lineman', 'Offense'), 'DE': ('Lineman', 'Defense'), 'DL': ('Lineman', 'Defense'),\n",
    "    'DT': ('Lineman', 'Defense'), 'FB': ('Lineman', 'Offense'), 'G': ('Lineman', 'Offense'),\n",
    "    'OL': ('Lineman', 'Offense'), 'T': ('Lineman', 'Offense'),\n",
    "\n",
    "    'LB': ('Mids', 'Defense'), 'OLB': ('Mids', 'Defense'),'ILB': ('Mids', 'Defense'),\n",
    "    'P': ('Mids', 'Special Teams'), 'K': ('Mids', 'Special Teams'),'LS': ('Mids', 'Special Teams'),'TE': ('Mids', 'Offense'), 'RB': ('Mids', 'Offense'),\n",
    "\n",
    "    'CB': ('Skills', 'Defense'), 'DB': ('Skills', 'Defense'),\n",
    "    'QB': ('Skills', 'Offense'),\n",
    "    'S': ('Skills', 'Defense'), 'SAF': ('Skills', 'Defense'),\n",
    "    'WR': ('Skills', 'Offense')\n",
    "}\n"
   ]
  },
  {
   "cell_type": "code",
   "execution_count": 53,
   "id": "44cbf7fa-021d-4773-9c17-1499e551aa82",
   "metadata": {},
   "outputs": [
    {
     "data": {
      "text/plain": [
       "{'C': ('Lineman', 'Offense'),\n",
       " 'DE': ('Lineman', 'Defense'),\n",
       " 'DL': ('Lineman', 'Defense'),\n",
       " 'DT': ('Lineman', 'Defense'),\n",
       " 'FB': ('Lineman', 'Offense'),\n",
       " 'G': ('Lineman', 'Offense'),\n",
       " 'OL': ('Lineman', 'Offense'),\n",
       " 'T': ('Lineman', 'Offense'),\n",
       " 'LB': ('Mids', 'Defense'),\n",
       " 'OLB': ('Mids', 'Defense'),\n",
       " 'ILB': ('Mids', 'Defense'),\n",
       " 'P': ('Mids', 'Special Teams'),\n",
       " 'K': ('Mids', 'Special Teams'),\n",
       " 'LS': ('Mids', 'Special Teams'),\n",
       " 'TE': ('Mids', 'Offense'),\n",
       " 'RB': ('Mids', 'Offense'),\n",
       " 'CB': ('Skills', 'Defense'),\n",
       " 'DB': ('Skills', 'Defense'),\n",
       " 'QB': ('Skills', 'Offense'),\n",
       " 'S': ('Skills', 'Defense'),\n",
       " 'SAF': ('Skills', 'Defense'),\n",
       " 'WR': ('Skills', 'Offense')}"
      ]
     },
     "execution_count": 53,
     "metadata": {},
     "output_type": "execute_result"
    }
   ],
   "source": [
    "position_groups"
   ]
  },
  {
   "cell_type": "code",
   "execution_count": 55,
   "id": "53aba106-a4b2-4176-af48-2c1ae8e8f100",
   "metadata": {},
   "outputs": [],
   "source": [
    "# Map positions to group and side\n",
    "myDataFrame['Group'] = myDataFrame['Pos'].map(lambda x: position_groups[x][0])\n",
    "myDataFrame['Side'] = myDataFrame['Pos'].map(lambda x: position_groups[x][1])\n"
   ]
  },
  {
   "cell_type": "code",
   "execution_count": 57,
   "id": "552eaf73-bcbe-416c-8877-f9a1abcc8afb",
   "metadata": {},
   "outputs": [
    {
     "name": "stdout",
     "output_type": "stream",
     "text": [
      "Group    Side         \n",
      "Lineman  Defense          12\n",
      "         Offense          21\n",
      "Mids     Defense           9\n",
      "         Offense          10\n",
      "         Special Teams     5\n",
      "Skills   Defense          16\n",
      "         Offense          17\n",
      "dtype: int64\n"
     ]
    }
   ],
   "source": [
    "grouped_counts = myDataFrame.groupby(['Group', 'Side']).size()\n",
    "print(grouped_counts)\n"
   ]
  },
  {
   "cell_type": "code",
   "execution_count": 59,
   "id": "7ba87587-5484-4455-b04f-17d5b00a68e5",
   "metadata": {},
   "outputs": [
    {
     "name": "stdout",
     "output_type": "stream",
     "text": [
      "Percentage of players who played more than 34 games: 40.00%\n"
     ]
    }
   ],
   "source": [
    "# Filter for players who played more than 34 games\n",
    "players_above_34 = myDataFrame[myDataFrame['G'] > 34]\n",
    "\n",
    "total_players = len(myDataFrame)\n",
    "\n",
    "num_above_34 = len(players_above_34)\n",
    "\n",
    "percentage_above_34 = (num_above_34 / total_players) * 100\n",
    "print(f\"Percentage of players who played more than 34 games: {percentage_above_34:.2f}%\")\n",
    "\n"
   ]
  },
  {
   "cell_type": "code",
   "execution_count": 121,
   "id": "26d1fed5-e2a6-4f6f-8b79-c6681a672808",
   "metadata": {},
   "outputs": [
    {
     "name": "stdout",
     "output_type": "stream",
     "text": [
      "Rnd  Group  \n",
      "1    Lineman    100.000000\n",
      "     Mids       100.000000\n",
      "     Skills      75.000000\n",
      "2    Lineman     50.000000\n",
      "     Mids        66.666667\n",
      "     Skills     100.000000\n",
      "3    Lineman     80.000000\n",
      "     Mids        50.000000\n",
      "     Skills     100.000000\n",
      "4    Lineman     62.500000\n",
      "     Mids        75.000000\n",
      "     Skills      42.857143\n",
      "5    Lineman     42.857143\n",
      "     Mids       100.000000\n",
      "     Skills            NaN\n",
      "6    Lineman     33.333333\n",
      "     Skills      55.555556\n",
      "7    Lineman     33.333333\n",
      "     Skills      50.000000\n",
      "dtype: float64\n",
      "Rnd  Group  \n",
      "1    Lineman    3\n",
      "     Mids       2\n",
      "     Skills     6\n",
      "2    Lineman    1\n",
      "     Mids       2\n",
      "     Skills     1\n",
      "3    Lineman    8\n",
      "     Mids       2\n",
      "     Skills     3\n",
      "4    Lineman    5\n",
      "     Mids       3\n",
      "     Skills     6\n",
      "5    Lineman    3\n",
      "     Mids       1\n",
      "6    Lineman    1\n",
      "     Skills     5\n",
      "7    Lineman    1\n",
      "     Skills     1\n",
      "dtype: int64\n"
     ]
    }
   ],
   "source": [
    "# Map positions to group categories (Bigs, Mids, Skills)\n",
    "position_groups = {\n",
    "    'C': 'Lineman', 'DE': 'Lineman', 'DL': 'Lineman', 'DT': 'Lineman',\n",
    "    'FB': 'Lineman', 'G': 'Lineman', 'OL': 'Lineman', 'T': 'Lineman',\n",
    "    'LB': 'Mids', 'OLB': 'Mids', 'P': 'Mids', 'TE': 'Mids',\n",
    "    'CB': 'Skills', 'DB': 'Skills', 'QB': 'Skills',\n",
    "    'RB': 'Skills', 'S': 'Skills', 'SAF': 'Skills', 'WR': 'Skills'\n",
    "}\n",
    "\n",
    "# Add the 'Group' column to the DataFrame\n",
    "myDataFrame['Group'] = myDataFrame['Pos'].map(position_groups)\n",
    "\n",
    "# Filter for players who played more than 34 games\n",
    "players_above_34 = myDataFrame[myDataFrame['G'] > 34]\n",
    "\n",
    "# Group by round and position group to calculate the number of players who played more than 34 games\n",
    "grouped_above_34 = players_above_34.groupby(['Rnd', 'Group']).size()\n",
    "\n",
    "# Group by round and position group to get total number of players\n",
    "total_grouped = myDataFrame.groupby(['Rnd', 'Group']).size()\n",
    "\n",
    "# Calculate the percentage of players who played more than 34 games by round and group\n",
    "percentage_above_34 = (grouped_above_34 / total_grouped) * 100\n",
    "print(percentage_above_34)\n",
    "\n",
    "\n",
    "above34count = (grouped_above_34)\n",
    "print(above34count)\n",
    "\n"
   ]
  },
  {
   "cell_type": "code",
   "execution_count": null,
   "id": "a3bfffb4-c756-439b-904a-9ce7e4ea1686",
   "metadata": {},
   "outputs": [],
   "source": []
  }
 ],
 "metadata": {
  "kernelspec": {
   "display_name": "Python 3 (ipykernel)",
   "language": "python",
   "name": "python3"
  },
  "language_info": {
   "codemirror_mode": {
    "name": "ipython",
    "version": 3
   },
   "file_extension": ".py",
   "mimetype": "text/x-python",
   "name": "python",
   "nbconvert_exporter": "python",
   "pygments_lexer": "ipython3",
   "version": "3.11.7"
  }
 },
 "nbformat": 4,
 "nbformat_minor": 5
}
