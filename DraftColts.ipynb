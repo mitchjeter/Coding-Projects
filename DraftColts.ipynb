{
 "cells": [
  {
   "cell_type": "code",
   "execution_count": 2,
   "id": "826a3613-5029-4bcd-974c-59b4f38750c9",
   "metadata": {},
   "outputs": [],
   "source": [
    "import pandas as pd "
   ]
  },
  {
   "cell_type": "code",
   "execution_count": 4,
   "id": "9bda517b-9232-438c-9251-54028d5ba42d",
   "metadata": {},
   "outputs": [
    {
     "data": {
      "text/html": [
       "<div>\n",
       "<style scoped>\n",
       "    .dataframe tbody tr th:only-of-type {\n",
       "        vertical-align: middle;\n",
       "    }\n",
       "\n",
       "    .dataframe tbody tr th {\n",
       "        vertical-align: top;\n",
       "    }\n",
       "\n",
       "    .dataframe thead th {\n",
       "        text-align: right;\n",
       "    }\n",
       "</style>\n",
       "<table border=\"1\" class=\"dataframe\">\n",
       "  <thead>\n",
       "    <tr style=\"text-align: right;\">\n",
       "      <th></th>\n",
       "      <th>Year</th>\n",
       "      <th>Rnd</th>\n",
       "      <th>Pick</th>\n",
       "      <th>Pos</th>\n",
       "      <th>To</th>\n",
       "      <th>AP1</th>\n",
       "      <th>PB</th>\n",
       "      <th>St</th>\n",
       "      <th>wAV</th>\n",
       "      <th>G</th>\n",
       "      <th>...</th>\n",
       "      <th>Att.1</th>\n",
       "      <th>Yds.1</th>\n",
       "      <th>TD.1</th>\n",
       "      <th>Rec</th>\n",
       "      <th>Yds.2</th>\n",
       "      <th>TD.2</th>\n",
       "      <th>Int.1</th>\n",
       "      <th>Sk</th>\n",
       "      <th>College/Univ</th>\n",
       "      <th>-9999</th>\n",
       "    </tr>\n",
       "    <tr>\n",
       "      <th>Player</th>\n",
       "      <th></th>\n",
       "      <th></th>\n",
       "      <th></th>\n",
       "      <th></th>\n",
       "      <th></th>\n",
       "      <th></th>\n",
       "      <th></th>\n",
       "      <th></th>\n",
       "      <th></th>\n",
       "      <th></th>\n",
       "      <th></th>\n",
       "      <th></th>\n",
       "      <th></th>\n",
       "      <th></th>\n",
       "      <th></th>\n",
       "      <th></th>\n",
       "      <th></th>\n",
       "      <th></th>\n",
       "      <th></th>\n",
       "      <th></th>\n",
       "      <th></th>\n",
       "    </tr>\n",
       "  </thead>\n",
       "  <tbody>\n",
       "    <tr>\n",
       "      <th>Laiatu Latu</th>\n",
       "      <td>2024</td>\n",
       "      <td>1</td>\n",
       "      <td>15</td>\n",
       "      <td>DL</td>\n",
       "      <td>2024.0</td>\n",
       "      <td>0</td>\n",
       "      <td>0</td>\n",
       "      <td>0</td>\n",
       "      <td>0.0</td>\n",
       "      <td>13.0</td>\n",
       "      <td>...</td>\n",
       "      <td>NaN</td>\n",
       "      <td>NaN</td>\n",
       "      <td>0.0</td>\n",
       "      <td>NaN</td>\n",
       "      <td>NaN</td>\n",
       "      <td>0.0</td>\n",
       "      <td>NaN</td>\n",
       "      <td>4.0</td>\n",
       "      <td>UCLA</td>\n",
       "      <td>LatuLa00</td>\n",
       "    </tr>\n",
       "    <tr>\n",
       "      <th>Adonai Mitchell</th>\n",
       "      <td>2024</td>\n",
       "      <td>2</td>\n",
       "      <td>52</td>\n",
       "      <td>WR</td>\n",
       "      <td>2024.0</td>\n",
       "      <td>0</td>\n",
       "      <td>0</td>\n",
       "      <td>1</td>\n",
       "      <td>0.0</td>\n",
       "      <td>13.0</td>\n",
       "      <td>...</td>\n",
       "      <td>3.0</td>\n",
       "      <td>16.0</td>\n",
       "      <td>0.0</td>\n",
       "      <td>20.0</td>\n",
       "      <td>254.0</td>\n",
       "      <td>0.0</td>\n",
       "      <td>NaN</td>\n",
       "      <td>NaN</td>\n",
       "      <td>Texas</td>\n",
       "      <td>MitcAd00</td>\n",
       "    </tr>\n",
       "    <tr>\n",
       "      <th>Matt Goncalves</th>\n",
       "      <td>2024</td>\n",
       "      <td>3</td>\n",
       "      <td>79</td>\n",
       "      <td>OL</td>\n",
       "      <td>2024.0</td>\n",
       "      <td>0</td>\n",
       "      <td>0</td>\n",
       "      <td>0</td>\n",
       "      <td>0.0</td>\n",
       "      <td>13.0</td>\n",
       "      <td>...</td>\n",
       "      <td>NaN</td>\n",
       "      <td>NaN</td>\n",
       "      <td>0.0</td>\n",
       "      <td>NaN</td>\n",
       "      <td>NaN</td>\n",
       "      <td>0.0</td>\n",
       "      <td>NaN</td>\n",
       "      <td>NaN</td>\n",
       "      <td>Pittsburgh</td>\n",
       "      <td>GoncMa00</td>\n",
       "    </tr>\n",
       "    <tr>\n",
       "      <th>Tanor Bortolini</th>\n",
       "      <td>2024</td>\n",
       "      <td>4</td>\n",
       "      <td>117</td>\n",
       "      <td>OL</td>\n",
       "      <td>2024.0</td>\n",
       "      <td>0</td>\n",
       "      <td>0</td>\n",
       "      <td>0</td>\n",
       "      <td>0.0</td>\n",
       "      <td>9.0</td>\n",
       "      <td>...</td>\n",
       "      <td>NaN</td>\n",
       "      <td>NaN</td>\n",
       "      <td>0.0</td>\n",
       "      <td>NaN</td>\n",
       "      <td>NaN</td>\n",
       "      <td>0.0</td>\n",
       "      <td>NaN</td>\n",
       "      <td>NaN</td>\n",
       "      <td>Wisconsin</td>\n",
       "      <td>BortTa00</td>\n",
       "    </tr>\n",
       "    <tr>\n",
       "      <th>Anthony Gould</th>\n",
       "      <td>2024</td>\n",
       "      <td>5</td>\n",
       "      <td>142</td>\n",
       "      <td>WR</td>\n",
       "      <td>2024.0</td>\n",
       "      <td>0</td>\n",
       "      <td>0</td>\n",
       "      <td>0</td>\n",
       "      <td>0.0</td>\n",
       "      <td>4.0</td>\n",
       "      <td>...</td>\n",
       "      <td>NaN</td>\n",
       "      <td>NaN</td>\n",
       "      <td>0.0</td>\n",
       "      <td>NaN</td>\n",
       "      <td>NaN</td>\n",
       "      <td>0.0</td>\n",
       "      <td>NaN</td>\n",
       "      <td>NaN</td>\n",
       "      <td>Oregon St.</td>\n",
       "      <td>GoulAn00</td>\n",
       "    </tr>\n",
       "  </tbody>\n",
       "</table>\n",
       "<p>5 rows × 25 columns</p>\n",
       "</div>"
      ],
      "text/plain": [
       "                 Year  Rnd  Pick Pos      To  AP1  PB  St  wAV     G  ...  \\\n",
       "Player                                                                ...   \n",
       "Laiatu Latu      2024    1    15  DL  2024.0    0   0   0  0.0  13.0  ...   \n",
       "Adonai Mitchell  2024    2    52  WR  2024.0    0   0   1  0.0  13.0  ...   \n",
       "Matt Goncalves   2024    3    79  OL  2024.0    0   0   0  0.0  13.0  ...   \n",
       "Tanor Bortolini  2024    4   117  OL  2024.0    0   0   0  0.0   9.0  ...   \n",
       "Anthony Gould    2024    5   142  WR  2024.0    0   0   0  0.0   4.0  ...   \n",
       "\n",
       "                 Att.1  Yds.1  TD.1   Rec  Yds.2  TD.2  Int.1   Sk  \\\n",
       "Player                                                               \n",
       "Laiatu Latu        NaN    NaN   0.0   NaN    NaN   0.0    NaN  4.0   \n",
       "Adonai Mitchell    3.0   16.0   0.0  20.0  254.0   0.0    NaN  NaN   \n",
       "Matt Goncalves     NaN    NaN   0.0   NaN    NaN   0.0    NaN  NaN   \n",
       "Tanor Bortolini    NaN    NaN   0.0   NaN    NaN   0.0    NaN  NaN   \n",
       "Anthony Gould      NaN    NaN   0.0   NaN    NaN   0.0    NaN  NaN   \n",
       "\n",
       "                 College/Univ     -9999  \n",
       "Player                                   \n",
       "Laiatu Latu              UCLA  LatuLa00  \n",
       "Adonai Mitchell         Texas  MitcAd00  \n",
       "Matt Goncalves     Pittsburgh  GoncMa00  \n",
       "Tanor Bortolini     Wisconsin  BortTa00  \n",
       "Anthony Gould      Oregon St.  GoulAn00  \n",
       "\n",
       "[5 rows x 25 columns]"
      ]
     },
     "execution_count": 4,
     "metadata": {},
     "output_type": "execute_result"
    }
   ],
   "source": [
    "myDataFrame = pd.read_csv(\"./data/colts.csv\", index_col= \"Player\")\n",
    "myDataFrame.head()"
   ]
  },
  {
   "cell_type": "code",
   "execution_count": 6,
   "id": "2a8872dc-e368-4307-94aa-370f728a5304",
   "metadata": {},
   "outputs": [
    {
     "data": {
      "text/plain": [
       "Player\n",
       "Laiatu Latu          DL\n",
       "Adonai Mitchell      WR\n",
       "Matt Goncalves       OL\n",
       "Tanor Bortolini      OL\n",
       "Anthony Gould        WR\n",
       "                   ... \n",
       "Clayton Geathers      S\n",
       "David Parry          NT\n",
       "Josh Robinson        RB\n",
       "Amarlo Herrera      ILB\n",
       "Denzelle Good         T\n",
       "Name: Pos, Length: 90, dtype: object"
      ]
     },
     "execution_count": 6,
     "metadata": {},
     "output_type": "execute_result"
    }
   ],
   "source": [
    "position = myDataFrame [\"Pos\"]\n",
    "position"
   ]
  },
  {
   "cell_type": "code",
   "execution_count": 8,
   "id": "ce541ea0-b37b-489b-b60e-5635d49421de",
   "metadata": {},
   "outputs": [
    {
     "data": {
      "text/plain": [
       "Player\n",
       "Laiatu Latu         13.0\n",
       "Adonai Mitchell     13.0\n",
       "Matt Goncalves      13.0\n",
       "Tanor Bortolini      9.0\n",
       "Anthony Gould        4.0\n",
       "                    ... \n",
       "Clayton Geathers    56.0\n",
       "David Parry         36.0\n",
       "Josh Robinson        5.0\n",
       "Amarlo Herrera       3.0\n",
       "Denzelle Good       62.0\n",
       "Name: G, Length: 90, dtype: float64"
      ]
     },
     "execution_count": 8,
     "metadata": {},
     "output_type": "execute_result"
    }
   ],
   "source": [
    "games = myDataFrame [\"G\"]\n",
    "games"
   ]
  },
  {
   "cell_type": "code",
   "execution_count": 10,
   "id": "5646a58e-ef8e-4309-b1e9-7b9fd3688954",
   "metadata": {},
   "outputs": [
    {
     "data": {
      "text/plain": [
       "Player\n",
       "Gerri Green        1.0\n",
       "Javon Patterson    1.0\n",
       "Shawn Davis        1.0\n",
       "Evan Hull          2.0\n",
       "Jacob Eason        2.0\n",
       "Name: G, dtype: float64"
      ]
     },
     "execution_count": 10,
     "metadata": {},
     "output_type": "execute_result"
    }
   ],
   "source": [
    "sortedGames = games.sort_values()\n",
    "sortedGames.head()"
   ]
  },
  {
   "cell_type": "code",
   "execution_count": 12,
   "id": "631af88c-46aa-4e7a-a5cf-76b046bb4b8f",
   "metadata": {},
   "outputs": [
    {
     "data": {
      "text/plain": [
       "120.0"
      ]
     },
     "execution_count": 12,
     "metadata": {},
     "output_type": "execute_result"
    }
   ],
   "source": [
    "myDataFrame[\"G\"].max()"
   ]
  },
  {
   "cell_type": "code",
   "execution_count": 14,
   "id": "24f21ab8-b1d8-47d4-9683-afa499f11b38",
   "metadata": {},
   "outputs": [
    {
     "data": {
      "text/html": [
       "<div>\n",
       "<style scoped>\n",
       "    .dataframe tbody tr th:only-of-type {\n",
       "        vertical-align: middle;\n",
       "    }\n",
       "\n",
       "    .dataframe tbody tr th {\n",
       "        vertical-align: top;\n",
       "    }\n",
       "\n",
       "    .dataframe thead th {\n",
       "        text-align: right;\n",
       "    }\n",
       "</style>\n",
       "<table border=\"1\" class=\"dataframe\">\n",
       "  <thead>\n",
       "    <tr style=\"text-align: right;\">\n",
       "      <th></th>\n",
       "      <th>G</th>\n",
       "      <th>Pos</th>\n",
       "      <th>Rnd</th>\n",
       "      <th>Year</th>\n",
       "      <th>Pick</th>\n",
       "    </tr>\n",
       "    <tr>\n",
       "      <th>Player</th>\n",
       "      <th></th>\n",
       "      <th></th>\n",
       "      <th></th>\n",
       "      <th></th>\n",
       "      <th></th>\n",
       "    </tr>\n",
       "  </thead>\n",
       "  <tbody>\n",
       "    <tr>\n",
       "      <th>Laiatu Latu</th>\n",
       "      <td>13.0</td>\n",
       "      <td>DL</td>\n",
       "      <td>1</td>\n",
       "      <td>2024</td>\n",
       "      <td>15</td>\n",
       "    </tr>\n",
       "    <tr>\n",
       "      <th>Adonai Mitchell</th>\n",
       "      <td>13.0</td>\n",
       "      <td>WR</td>\n",
       "      <td>2</td>\n",
       "      <td>2024</td>\n",
       "      <td>52</td>\n",
       "    </tr>\n",
       "    <tr>\n",
       "      <th>Matt Goncalves</th>\n",
       "      <td>13.0</td>\n",
       "      <td>OL</td>\n",
       "      <td>3</td>\n",
       "      <td>2024</td>\n",
       "      <td>79</td>\n",
       "    </tr>\n",
       "    <tr>\n",
       "      <th>Tanor Bortolini</th>\n",
       "      <td>9.0</td>\n",
       "      <td>OL</td>\n",
       "      <td>4</td>\n",
       "      <td>2024</td>\n",
       "      <td>117</td>\n",
       "    </tr>\n",
       "    <tr>\n",
       "      <th>Anthony Gould</th>\n",
       "      <td>4.0</td>\n",
       "      <td>WR</td>\n",
       "      <td>5</td>\n",
       "      <td>2024</td>\n",
       "      <td>142</td>\n",
       "    </tr>\n",
       "    <tr>\n",
       "      <th>...</th>\n",
       "      <td>...</td>\n",
       "      <td>...</td>\n",
       "      <td>...</td>\n",
       "      <td>...</td>\n",
       "      <td>...</td>\n",
       "    </tr>\n",
       "    <tr>\n",
       "      <th>Clayton Geathers</th>\n",
       "      <td>56.0</td>\n",
       "      <td>S</td>\n",
       "      <td>4</td>\n",
       "      <td>2015</td>\n",
       "      <td>109</td>\n",
       "    </tr>\n",
       "    <tr>\n",
       "      <th>David Parry</th>\n",
       "      <td>36.0</td>\n",
       "      <td>NT</td>\n",
       "      <td>5</td>\n",
       "      <td>2015</td>\n",
       "      <td>151</td>\n",
       "    </tr>\n",
       "    <tr>\n",
       "      <th>Josh Robinson</th>\n",
       "      <td>5.0</td>\n",
       "      <td>RB</td>\n",
       "      <td>6</td>\n",
       "      <td>2015</td>\n",
       "      <td>205</td>\n",
       "    </tr>\n",
       "    <tr>\n",
       "      <th>Amarlo Herrera</th>\n",
       "      <td>3.0</td>\n",
       "      <td>ILB</td>\n",
       "      <td>6</td>\n",
       "      <td>2015</td>\n",
       "      <td>207</td>\n",
       "    </tr>\n",
       "    <tr>\n",
       "      <th>Denzelle Good</th>\n",
       "      <td>62.0</td>\n",
       "      <td>T</td>\n",
       "      <td>7</td>\n",
       "      <td>2015</td>\n",
       "      <td>255</td>\n",
       "    </tr>\n",
       "  </tbody>\n",
       "</table>\n",
       "<p>90 rows × 5 columns</p>\n",
       "</div>"
      ],
      "text/plain": [
       "                     G  Pos  Rnd  Year  Pick\n",
       "Player                                      \n",
       "Laiatu Latu       13.0   DL    1  2024    15\n",
       "Adonai Mitchell   13.0   WR    2  2024    52\n",
       "Matt Goncalves    13.0   OL    3  2024    79\n",
       "Tanor Bortolini    9.0   OL    4  2024   117\n",
       "Anthony Gould      4.0   WR    5  2024   142\n",
       "...                ...  ...  ...   ...   ...\n",
       "Clayton Geathers  56.0    S    4  2015   109\n",
       "David Parry       36.0   NT    5  2015   151\n",
       "Josh Robinson      5.0   RB    6  2015   205\n",
       "Amarlo Herrera     3.0  ILB    6  2015   207\n",
       "Denzelle Good     62.0    T    7  2015   255\n",
       "\n",
       "[90 rows x 5 columns]"
      ]
     },
     "execution_count": 14,
     "metadata": {},
     "output_type": "execute_result"
    }
   ],
   "source": [
    "draft_columns = [ 'G', 'Pos', 'Rnd', 'Year', 'Pick']\n",
    "myDataFrame[draft_columns]"
   ]
  },
  {
   "cell_type": "code",
   "execution_count": 18,
   "id": "835d095c-cae4-4467-95f4-1a001f0f44ea",
   "metadata": {},
   "outputs": [
    {
     "name": "stdout",
     "output_type": "stream",
     "text": [
      "Rnd\n",
      "1    70.714286\n",
      "2    52.933333\n",
      "3    48.818182\n",
      "4    47.769231\n",
      "5    35.437500\n",
      "6    14.900000\n",
      "7    44.416667\n",
      "Name: G, dtype: float64\n"
     ]
    }
   ],
   "source": [
    "\n",
    "average_gamesround = myDataFrame.groupby(['Rnd'])['G'].mean()\n",
    "\n",
    "# Display the result\n",
    "print(average_gamesround)\n"
   ]
  },
  {
   "cell_type": "code",
   "execution_count": 20,
   "id": "b5a54d0a-68ff-47a8-9c33-460f3899b6a6",
   "metadata": {},
   "outputs": [
    {
     "name": "stdout",
     "output_type": "stream",
     "text": [
      "Pos\n",
      "C      70.333333\n",
      "CB     46.200000\n",
      "DB     16.500000\n",
      "DE     60.750000\n",
      "DL     31.800000\n",
      "DT     59.250000\n",
      "G      86.000000\n",
      "ILB    25.000000\n",
      "LB     68.900000\n",
      "NT     36.000000\n",
      "OL     25.000000\n",
      "OLB    41.000000\n",
      "QB      7.666667\n",
      "RB     43.333333\n",
      "S      51.000000\n",
      "SAF          NaN\n",
      "T      49.400000\n",
      "TE     29.500000\n",
      "WR     33.000000\n",
      "Name: G, dtype: float64\n"
     ]
    }
   ],
   "source": [
    "\n",
    "average_gamesposition = myDataFrame.groupby(['Pos'])['G'].mean()\n",
    "\n",
    "# Display the result\n",
    "print(average_gamesposition)"
   ]
  },
  {
   "cell_type": "code",
   "execution_count": 22,
   "id": "59455815-5a06-4b07-88f5-57aa96d8dfce",
   "metadata": {},
   "outputs": [
    {
     "name": "stdout",
     "output_type": "stream",
     "text": [
      "Number of first-round picks: 7\n"
     ]
    }
   ],
   "source": [
    "# Filter for first-round picks\n",
    "first_round_picks = myDataFrame[myDataFrame['Rnd'] == 1]\n",
    "\n",
    "# Count the number of first-round picks\n",
    "num_first_round_picks = len(first_round_picks)\n",
    "\n",
    "print(f\"Number of first-round picks: {num_first_round_picks}\")\n"
   ]
  },
  {
   "cell_type": "code",
   "execution_count": 32,
   "id": "c700855a-9e69-4df7-9e57-717bae4f429f",
   "metadata": {},
   "outputs": [],
   "source": [
    "position_groups = {\n",
    "    'C': ('Lineman', 'Offense'), 'DE': ('Lineman', 'Defense'), 'DL': ('Lineman', 'Defense'),\n",
    "    'DT': ('Lineman', 'Defense'),'NT': ('Lineman', 'Defense'),\n",
    "    'FB': ('Lineman', 'Offense'), 'G': ('Lineman', 'Offense'),\n",
    "    'OL': ('Lineman', 'Offense'), 'T': ('Lineman', 'Offense'),\n",
    "\n",
    "    'LB': ('Mids', 'Defense'), 'OLB': ('Mids', 'Defense'),'ILB': ('Mids', 'Defense'),\n",
    "    'P': ('Mids', 'Special Teams'), 'K': ('Mids', 'Special Teams'),'LS': ('Mids', 'Special Teams'),'TE': ('Mids', 'Offense'), 'RB': ('Mids', 'Offense'),\n",
    "\n",
    "    'CB': ('Skills', 'Defense'), 'DB': ('Skills', 'Defense'),\n",
    "    'QB': ('Skills', 'Offense'),\n",
    "    'S': ('Skills', 'Defense'), 'SAF': ('Skills', 'Defense'),\n",
    "    'WR': ('Skills', 'Offense')\n",
    "}\n"
   ]
  },
  {
   "cell_type": "code",
   "execution_count": 34,
   "id": "44cbf7fa-021d-4773-9c17-1499e551aa82",
   "metadata": {},
   "outputs": [
    {
     "data": {
      "text/plain": [
       "{'C': ('Lineman', 'Offense'),\n",
       " 'DE': ('Lineman', 'Defense'),\n",
       " 'DL': ('Lineman', 'Defense'),\n",
       " 'DT': ('Lineman', 'Defense'),\n",
       " 'NT': ('Lineman', 'Defense'),\n",
       " 'FB': ('Lineman', 'Offense'),\n",
       " 'G': ('Lineman', 'Offense'),\n",
       " 'OL': ('Lineman', 'Offense'),\n",
       " 'T': ('Lineman', 'Offense'),\n",
       " 'LB': ('Mids', 'Defense'),\n",
       " 'OLB': ('Mids', 'Defense'),\n",
       " 'ILB': ('Mids', 'Defense'),\n",
       " 'P': ('Mids', 'Special Teams'),\n",
       " 'K': ('Mids', 'Special Teams'),\n",
       " 'LS': ('Mids', 'Special Teams'),\n",
       " 'TE': ('Mids', 'Offense'),\n",
       " 'RB': ('Mids', 'Offense'),\n",
       " 'CB': ('Skills', 'Defense'),\n",
       " 'DB': ('Skills', 'Defense'),\n",
       " 'QB': ('Skills', 'Offense'),\n",
       " 'S': ('Skills', 'Defense'),\n",
       " 'SAF': ('Skills', 'Defense'),\n",
       " 'WR': ('Skills', 'Offense')}"
      ]
     },
     "execution_count": 34,
     "metadata": {},
     "output_type": "execute_result"
    }
   ],
   "source": [
    "position_groups"
   ]
  },
  {
   "cell_type": "code",
   "execution_count": 36,
   "id": "53aba106-a4b2-4176-af48-2c1ae8e8f100",
   "metadata": {},
   "outputs": [],
   "source": [
    "# Map positions to group and side\n",
    "myDataFrame['Group'] = myDataFrame['Pos'].map(lambda x: position_groups[x][0])\n",
    "myDataFrame['Side'] = myDataFrame['Pos'].map(lambda x: position_groups[x][1])\n"
   ]
  },
  {
   "cell_type": "code",
   "execution_count": 38,
   "id": "552eaf73-bcbe-416c-8877-f9a1abcc8afb",
   "metadata": {},
   "outputs": [
    {
     "name": "stdout",
     "output_type": "stream",
     "text": [
      "Group    Side   \n",
      "Lineman  Defense    15\n",
      "         Offense    17\n",
      "Mids     Defense    14\n",
      "         Offense    10\n",
      "Skills   Defense    20\n",
      "         Offense    14\n",
      "dtype: int64\n"
     ]
    }
   ],
   "source": [
    "grouped_counts = myDataFrame.groupby(['Group', 'Side']).size()\n",
    "print(grouped_counts)\n"
   ]
  },
  {
   "cell_type": "code",
   "execution_count": 40,
   "id": "7ba87587-5484-4455-b04f-17d5b00a68e5",
   "metadata": {},
   "outputs": [
    {
     "name": "stdout",
     "output_type": "stream",
     "text": [
      "Percentage of players who played more than 34 games: 52.22%\n"
     ]
    }
   ],
   "source": [
    "# Filter for players who played more than 34 games\n",
    "players_above_34 = myDataFrame[myDataFrame['G'] > 34]\n",
    "\n",
    "total_players = len(myDataFrame)\n",
    "\n",
    "num_above_34 = len(players_above_34)\n",
    "\n",
    "percentage_above_34 = (num_above_34 / total_players) * 100\n",
    "print(f\"Percentage of players who played more than 34 games: {percentage_above_34:.2f}%\")\n",
    "\n"
   ]
  },
  {
   "cell_type": "code",
   "execution_count": 42,
   "id": "26d1fed5-e2a6-4f6f-8b79-c6681a672808",
   "metadata": {},
   "outputs": [
    {
     "name": "stdout",
     "output_type": "stream",
     "text": [
      "Rnd  Group  \n",
      "1    Lineman     75.000000\n",
      "     Skills      66.666667\n",
      "2    Lineman    100.000000\n",
      "     Mids       100.000000\n",
      "     Skills      66.666667\n",
      "3    Lineman     80.000000\n",
      "     Mids        50.000000\n",
      "     Skills      50.000000\n",
      "4    Lineman     33.333333\n",
      "     Mids       100.000000\n",
      "     Skills      80.000000\n",
      "5    Lineman    100.000000\n",
      "     Mids        66.666667\n",
      "     Skills      18.181818\n",
      "6    Lineman           NaN\n",
      "     Mids              NaN\n",
      "     Skills      16.666667\n",
      "7    Lineman     42.857143\n",
      "     Mids        75.000000\n",
      "     Skills            NaN\n",
      "dtype: float64\n",
      "Rnd  Group  \n",
      "1    Lineman    3\n",
      "     Skills     2\n",
      "2    Lineman    3\n",
      "     Mids       3\n",
      "     Skills     6\n",
      "3    Lineman    4\n",
      "     Mids       1\n",
      "     Skills     2\n",
      "4    Lineman    2\n",
      "     Mids       1\n",
      "     Skills     4\n",
      "5    Lineman    3\n",
      "     Mids       2\n",
      "     Skills     2\n",
      "6    Skills     1\n",
      "7    Lineman    3\n",
      "     Mids       3\n",
      "dtype: int64\n"
     ]
    }
   ],
   "source": [
    "# Map positions to group categories (Bigs, Mids, Skills)\n",
    "position_groups = {\n",
    "    'C': 'Lineman', 'DE': 'Lineman', 'DL': 'Lineman', 'DT': 'Lineman',\n",
    "    'FB': 'Lineman', 'G': 'Lineman', 'OL': 'Lineman', 'T': 'Lineman',\n",
    "    'LB': 'Mids', 'OLB': 'Mids', 'P': 'Mids', 'TE': 'Mids',\n",
    "    'CB': 'Skills', 'DB': 'Skills', 'QB': 'Skills',\n",
    "    'RB': 'Skills', 'S': 'Skills', 'SAF': 'Skills', 'WR': 'Skills'\n",
    "}\n",
    "\n",
    "# Add the 'Group' column to the DataFrame\n",
    "myDataFrame['Group'] = myDataFrame['Pos'].map(position_groups)\n",
    "\n",
    "# Filter for players who played more than 34 games\n",
    "players_above_34 = myDataFrame[myDataFrame['G'] > 34]\n",
    "\n",
    "# Group by round and position group to calculate the number of players who played more than 34 games\n",
    "grouped_above_34 = players_above_34.groupby(['Rnd', 'Group']).size()\n",
    "\n",
    "# Group by round and position group to get total number of players\n",
    "total_grouped = myDataFrame.groupby(['Rnd', 'Group']).size()\n",
    "\n",
    "# Calculate the percentage of players who played more than 34 games by round and group\n",
    "percentage_above_34 = (grouped_above_34 / total_grouped) * 100\n",
    "print(percentage_above_34)\n",
    "\n",
    "\n",
    "above34count = (grouped_above_34)\n",
    "print(above34count)\n",
    "\n"
   ]
  },
  {
   "cell_type": "code",
   "execution_count": null,
   "id": "a3bfffb4-c756-439b-904a-9ce7e4ea1686",
   "metadata": {},
   "outputs": [],
   "source": []
  }
 ],
 "metadata": {
  "kernelspec": {
   "display_name": "Python 3 (ipykernel)",
   "language": "python",
   "name": "python3"
  },
  "language_info": {
   "codemirror_mode": {
    "name": "ipython",
    "version": 3
   },
   "file_extension": ".py",
   "mimetype": "text/x-python",
   "name": "python",
   "nbconvert_exporter": "python",
   "pygments_lexer": "ipython3",
   "version": "3.11.7"
  }
 },
 "nbformat": 4,
 "nbformat_minor": 5
}
