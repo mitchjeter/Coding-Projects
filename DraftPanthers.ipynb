{
 "cells": [
  {
   "cell_type": "code",
   "execution_count": 2,
   "id": "826a3613-5029-4bcd-974c-59b4f38750c9",
   "metadata": {},
   "outputs": [],
   "source": [
    "import pandas as pd "
   ]
  },
  {
   "cell_type": "code",
   "execution_count": 4,
   "id": "9bda517b-9232-438c-9251-54028d5ba42d",
   "metadata": {},
   "outputs": [
    {
     "data": {
      "text/html": [
       "<div>\n",
       "<style scoped>\n",
       "    .dataframe tbody tr th:only-of-type {\n",
       "        vertical-align: middle;\n",
       "    }\n",
       "\n",
       "    .dataframe tbody tr th {\n",
       "        vertical-align: top;\n",
       "    }\n",
       "\n",
       "    .dataframe thead th {\n",
       "        text-align: right;\n",
       "    }\n",
       "</style>\n",
       "<table border=\"1\" class=\"dataframe\">\n",
       "  <thead>\n",
       "    <tr style=\"text-align: right;\">\n",
       "      <th></th>\n",
       "      <th>Year</th>\n",
       "      <th>Rnd</th>\n",
       "      <th>Pick</th>\n",
       "      <th>Pos</th>\n",
       "      <th>To</th>\n",
       "      <th>AP1</th>\n",
       "      <th>PB</th>\n",
       "      <th>St</th>\n",
       "      <th>wAV</th>\n",
       "      <th>G</th>\n",
       "      <th>...</th>\n",
       "      <th>Att.1</th>\n",
       "      <th>Yds.1</th>\n",
       "      <th>TD.1</th>\n",
       "      <th>Rec</th>\n",
       "      <th>Yds.2</th>\n",
       "      <th>TD.2</th>\n",
       "      <th>Int.1</th>\n",
       "      <th>Sk</th>\n",
       "      <th>College/Univ</th>\n",
       "      <th>-9999</th>\n",
       "    </tr>\n",
       "    <tr>\n",
       "      <th>Player</th>\n",
       "      <th></th>\n",
       "      <th></th>\n",
       "      <th></th>\n",
       "      <th></th>\n",
       "      <th></th>\n",
       "      <th></th>\n",
       "      <th></th>\n",
       "      <th></th>\n",
       "      <th></th>\n",
       "      <th></th>\n",
       "      <th></th>\n",
       "      <th></th>\n",
       "      <th></th>\n",
       "      <th></th>\n",
       "      <th></th>\n",
       "      <th></th>\n",
       "      <th></th>\n",
       "      <th></th>\n",
       "      <th></th>\n",
       "      <th></th>\n",
       "      <th></th>\n",
       "    </tr>\n",
       "  </thead>\n",
       "  <tbody>\n",
       "    <tr>\n",
       "      <th>Xavier Legette</th>\n",
       "      <td>2024</td>\n",
       "      <td>1</td>\n",
       "      <td>32</td>\n",
       "      <td>WR</td>\n",
       "      <td>2024.0</td>\n",
       "      <td>0</td>\n",
       "      <td>0</td>\n",
       "      <td>1</td>\n",
       "      <td>0.0</td>\n",
       "      <td>12.0</td>\n",
       "      <td>...</td>\n",
       "      <td>5.0</td>\n",
       "      <td>22.0</td>\n",
       "      <td>0.0</td>\n",
       "      <td>37.0</td>\n",
       "      <td>393.0</td>\n",
       "      <td>4.0</td>\n",
       "      <td>NaN</td>\n",
       "      <td>NaN</td>\n",
       "      <td>South Carolina</td>\n",
       "      <td>LegeXa00</td>\n",
       "    </tr>\n",
       "    <tr>\n",
       "      <th>Jonathon Brooks</th>\n",
       "      <td>2024</td>\n",
       "      <td>2</td>\n",
       "      <td>46</td>\n",
       "      <td>RB</td>\n",
       "      <td>2024.0</td>\n",
       "      <td>0</td>\n",
       "      <td>0</td>\n",
       "      <td>0</td>\n",
       "      <td>0.0</td>\n",
       "      <td>2.0</td>\n",
       "      <td>...</td>\n",
       "      <td>8.0</td>\n",
       "      <td>25.0</td>\n",
       "      <td>0.0</td>\n",
       "      <td>3.0</td>\n",
       "      <td>23.0</td>\n",
       "      <td>0.0</td>\n",
       "      <td>NaN</td>\n",
       "      <td>NaN</td>\n",
       "      <td>Texas</td>\n",
       "      <td>BrooJo02</td>\n",
       "    </tr>\n",
       "    <tr>\n",
       "      <th>Trevin Wallace</th>\n",
       "      <td>2024</td>\n",
       "      <td>3</td>\n",
       "      <td>72</td>\n",
       "      <td>LB</td>\n",
       "      <td>2024.0</td>\n",
       "      <td>0</td>\n",
       "      <td>0</td>\n",
       "      <td>1</td>\n",
       "      <td>0.0</td>\n",
       "      <td>12.0</td>\n",
       "      <td>...</td>\n",
       "      <td>NaN</td>\n",
       "      <td>NaN</td>\n",
       "      <td>0.0</td>\n",
       "      <td>NaN</td>\n",
       "      <td>NaN</td>\n",
       "      <td>0.0</td>\n",
       "      <td>NaN</td>\n",
       "      <td>1.0</td>\n",
       "      <td>Kentucky</td>\n",
       "      <td>WallTr00</td>\n",
       "    </tr>\n",
       "    <tr>\n",
       "      <th>Ja'Tavion Sanders</th>\n",
       "      <td>2024</td>\n",
       "      <td>4</td>\n",
       "      <td>101</td>\n",
       "      <td>TE</td>\n",
       "      <td>2024.0</td>\n",
       "      <td>0</td>\n",
       "      <td>0</td>\n",
       "      <td>0</td>\n",
       "      <td>0.0</td>\n",
       "      <td>11.0</td>\n",
       "      <td>...</td>\n",
       "      <td>NaN</td>\n",
       "      <td>NaN</td>\n",
       "      <td>0.0</td>\n",
       "      <td>29.0</td>\n",
       "      <td>302.0</td>\n",
       "      <td>1.0</td>\n",
       "      <td>NaN</td>\n",
       "      <td>NaN</td>\n",
       "      <td>Texas</td>\n",
       "      <td>SandJa01</td>\n",
       "    </tr>\n",
       "    <tr>\n",
       "      <th>Chau Smith-Wade</th>\n",
       "      <td>2024</td>\n",
       "      <td>5</td>\n",
       "      <td>157</td>\n",
       "      <td>DB</td>\n",
       "      <td>2024.0</td>\n",
       "      <td>0</td>\n",
       "      <td>0</td>\n",
       "      <td>0</td>\n",
       "      <td>0.0</td>\n",
       "      <td>11.0</td>\n",
       "      <td>...</td>\n",
       "      <td>NaN</td>\n",
       "      <td>NaN</td>\n",
       "      <td>0.0</td>\n",
       "      <td>NaN</td>\n",
       "      <td>NaN</td>\n",
       "      <td>0.0</td>\n",
       "      <td>1.0</td>\n",
       "      <td>NaN</td>\n",
       "      <td>Washington St.</td>\n",
       "      <td>SmitCh05</td>\n",
       "    </tr>\n",
       "  </tbody>\n",
       "</table>\n",
       "<p>5 rows × 25 columns</p>\n",
       "</div>"
      ],
      "text/plain": [
       "                   Year  Rnd  Pick Pos      To  AP1  PB  St  wAV     G  ...  \\\n",
       "Player                                                                  ...   \n",
       "Xavier Legette     2024    1    32  WR  2024.0    0   0   1  0.0  12.0  ...   \n",
       "Jonathon Brooks    2024    2    46  RB  2024.0    0   0   0  0.0   2.0  ...   \n",
       "Trevin Wallace     2024    3    72  LB  2024.0    0   0   1  0.0  12.0  ...   \n",
       "Ja'Tavion Sanders  2024    4   101  TE  2024.0    0   0   0  0.0  11.0  ...   \n",
       "Chau Smith-Wade    2024    5   157  DB  2024.0    0   0   0  0.0  11.0  ...   \n",
       "\n",
       "                   Att.1  Yds.1  TD.1   Rec  Yds.2  TD.2  Int.1   Sk  \\\n",
       "Player                                                                 \n",
       "Xavier Legette       5.0   22.0   0.0  37.0  393.0   4.0    NaN  NaN   \n",
       "Jonathon Brooks      8.0   25.0   0.0   3.0   23.0   0.0    NaN  NaN   \n",
       "Trevin Wallace       NaN    NaN   0.0   NaN    NaN   0.0    NaN  1.0   \n",
       "Ja'Tavion Sanders    NaN    NaN   0.0  29.0  302.0   1.0    NaN  NaN   \n",
       "Chau Smith-Wade      NaN    NaN   0.0   NaN    NaN   0.0    1.0  NaN   \n",
       "\n",
       "                     College/Univ     -9999  \n",
       "Player                                       \n",
       "Xavier Legette     South Carolina  LegeXa00  \n",
       "Jonathon Brooks             Texas  BrooJo02  \n",
       "Trevin Wallace           Kentucky  WallTr00  \n",
       "Ja'Tavion Sanders           Texas  SandJa01  \n",
       "Chau Smith-Wade    Washington St.  SmitCh05  \n",
       "\n",
       "[5 rows x 25 columns]"
      ]
     },
     "execution_count": 4,
     "metadata": {},
     "output_type": "execute_result"
    }
   ],
   "source": [
    "myDataFrame = pd.read_csv(\"./data/panthers.csv\", index_col= \"Player\")\n",
    "myDataFrame.head()"
   ]
  },
  {
   "cell_type": "code",
   "execution_count": 6,
   "id": "2a8872dc-e368-4307-94aa-370f728a5304",
   "metadata": {},
   "outputs": [
    {
     "data": {
      "text/plain": [
       "Player\n",
       "Xavier Legette          WR\n",
       "Jonathon Brooks         RB\n",
       "Trevin Wallace          LB\n",
       "Ja'Tavion Sanders       TE\n",
       "Chau Smith-Wade         DB\n",
       "                      ... \n",
       "Shaq Thompson          OLB\n",
       "Devin Funchess          TE\n",
       "Daryl Williams           G\n",
       "David Mayo              LB\n",
       "Cameron Artis-Payne     RB\n",
       "Name: Pos, Length: 68, dtype: object"
      ]
     },
     "execution_count": 6,
     "metadata": {},
     "output_type": "execute_result"
    }
   ],
   "source": [
    "position = myDataFrame [\"Pos\"]\n",
    "position"
   ]
  },
  {
   "cell_type": "code",
   "execution_count": 8,
   "id": "ce541ea0-b37b-489b-b60e-5635d49421de",
   "metadata": {},
   "outputs": [
    {
     "data": {
      "text/plain": [
       "Player\n",
       "Xavier Legette          12.0\n",
       "Jonathon Brooks          2.0\n",
       "Trevin Wallace          12.0\n",
       "Ja'Tavion Sanders       11.0\n",
       "Chau Smith-Wade         11.0\n",
       "                       ...  \n",
       "Shaq Thompson          123.0\n",
       "Devin Funchess          62.0\n",
       "Daryl Williams          89.0\n",
       "David Mayo             132.0\n",
       "Cameron Artis-Payne     32.0\n",
       "Name: G, Length: 68, dtype: float64"
      ]
     },
     "execution_count": 8,
     "metadata": {},
     "output_type": "execute_result"
    }
   ],
   "source": [
    "games = myDataFrame [\"G\"]\n",
    "games"
   ]
  },
  {
   "cell_type": "code",
   "execution_count": 10,
   "id": "5646a58e-ef8e-4309-b1e9-7b9fd3688954",
   "metadata": {},
   "outputs": [
    {
     "data": {
      "text/plain": [
       "Player\n",
       "Jonathon Brooks    2.0\n",
       "Will Grier         2.0\n",
       "Kalon Barnes       2.0\n",
       "Deonte Brown       3.0\n",
       "Terry Godwin       3.0\n",
       "Name: G, dtype: float64"
      ]
     },
     "execution_count": 10,
     "metadata": {},
     "output_type": "execute_result"
    }
   ],
   "source": [
    "sortedGames = games.sort_values()\n",
    "sortedGames.head()"
   ]
  },
  {
   "cell_type": "code",
   "execution_count": 12,
   "id": "631af88c-46aa-4e7a-a5cf-76b046bb4b8f",
   "metadata": {},
   "outputs": [
    {
     "data": {
      "text/plain": [
       "132.0"
      ]
     },
     "execution_count": 12,
     "metadata": {},
     "output_type": "execute_result"
    }
   ],
   "source": [
    "myDataFrame[\"G\"].max()"
   ]
  },
  {
   "cell_type": "code",
   "execution_count": 14,
   "id": "24f21ab8-b1d8-47d4-9683-afa499f11b38",
   "metadata": {},
   "outputs": [
    {
     "data": {
      "text/html": [
       "<div>\n",
       "<style scoped>\n",
       "    .dataframe tbody tr th:only-of-type {\n",
       "        vertical-align: middle;\n",
       "    }\n",
       "\n",
       "    .dataframe tbody tr th {\n",
       "        vertical-align: top;\n",
       "    }\n",
       "\n",
       "    .dataframe thead th {\n",
       "        text-align: right;\n",
       "    }\n",
       "</style>\n",
       "<table border=\"1\" class=\"dataframe\">\n",
       "  <thead>\n",
       "    <tr style=\"text-align: right;\">\n",
       "      <th></th>\n",
       "      <th>G</th>\n",
       "      <th>Pos</th>\n",
       "      <th>Rnd</th>\n",
       "      <th>Year</th>\n",
       "      <th>Pick</th>\n",
       "    </tr>\n",
       "    <tr>\n",
       "      <th>Player</th>\n",
       "      <th></th>\n",
       "      <th></th>\n",
       "      <th></th>\n",
       "      <th></th>\n",
       "      <th></th>\n",
       "    </tr>\n",
       "  </thead>\n",
       "  <tbody>\n",
       "    <tr>\n",
       "      <th>Xavier Legette</th>\n",
       "      <td>12.0</td>\n",
       "      <td>WR</td>\n",
       "      <td>1</td>\n",
       "      <td>2024</td>\n",
       "      <td>32</td>\n",
       "    </tr>\n",
       "    <tr>\n",
       "      <th>Jonathon Brooks</th>\n",
       "      <td>2.0</td>\n",
       "      <td>RB</td>\n",
       "      <td>2</td>\n",
       "      <td>2024</td>\n",
       "      <td>46</td>\n",
       "    </tr>\n",
       "    <tr>\n",
       "      <th>Trevin Wallace</th>\n",
       "      <td>12.0</td>\n",
       "      <td>LB</td>\n",
       "      <td>3</td>\n",
       "      <td>2024</td>\n",
       "      <td>72</td>\n",
       "    </tr>\n",
       "    <tr>\n",
       "      <th>Ja'Tavion Sanders</th>\n",
       "      <td>11.0</td>\n",
       "      <td>TE</td>\n",
       "      <td>4</td>\n",
       "      <td>2024</td>\n",
       "      <td>101</td>\n",
       "    </tr>\n",
       "    <tr>\n",
       "      <th>Chau Smith-Wade</th>\n",
       "      <td>11.0</td>\n",
       "      <td>DB</td>\n",
       "      <td>5</td>\n",
       "      <td>2024</td>\n",
       "      <td>157</td>\n",
       "    </tr>\n",
       "    <tr>\n",
       "      <th>...</th>\n",
       "      <td>...</td>\n",
       "      <td>...</td>\n",
       "      <td>...</td>\n",
       "      <td>...</td>\n",
       "      <td>...</td>\n",
       "    </tr>\n",
       "    <tr>\n",
       "      <th>Shaq Thompson</th>\n",
       "      <td>123.0</td>\n",
       "      <td>OLB</td>\n",
       "      <td>1</td>\n",
       "      <td>2015</td>\n",
       "      <td>25</td>\n",
       "    </tr>\n",
       "    <tr>\n",
       "      <th>Devin Funchess</th>\n",
       "      <td>62.0</td>\n",
       "      <td>TE</td>\n",
       "      <td>2</td>\n",
       "      <td>2015</td>\n",
       "      <td>41</td>\n",
       "    </tr>\n",
       "    <tr>\n",
       "      <th>Daryl Williams</th>\n",
       "      <td>89.0</td>\n",
       "      <td>G</td>\n",
       "      <td>4</td>\n",
       "      <td>2015</td>\n",
       "      <td>102</td>\n",
       "    </tr>\n",
       "    <tr>\n",
       "      <th>David Mayo</th>\n",
       "      <td>132.0</td>\n",
       "      <td>LB</td>\n",
       "      <td>5</td>\n",
       "      <td>2015</td>\n",
       "      <td>169</td>\n",
       "    </tr>\n",
       "    <tr>\n",
       "      <th>Cameron Artis-Payne</th>\n",
       "      <td>32.0</td>\n",
       "      <td>RB</td>\n",
       "      <td>5</td>\n",
       "      <td>2015</td>\n",
       "      <td>174</td>\n",
       "    </tr>\n",
       "  </tbody>\n",
       "</table>\n",
       "<p>68 rows × 5 columns</p>\n",
       "</div>"
      ],
      "text/plain": [
       "                         G  Pos  Rnd  Year  Pick\n",
       "Player                                          \n",
       "Xavier Legette        12.0   WR    1  2024    32\n",
       "Jonathon Brooks        2.0   RB    2  2024    46\n",
       "Trevin Wallace        12.0   LB    3  2024    72\n",
       "Ja'Tavion Sanders     11.0   TE    4  2024   101\n",
       "Chau Smith-Wade       11.0   DB    5  2024   157\n",
       "...                    ...  ...  ...   ...   ...\n",
       "Shaq Thompson        123.0  OLB    1  2015    25\n",
       "Devin Funchess        62.0   TE    2  2015    41\n",
       "Daryl Williams        89.0    G    4  2015   102\n",
       "David Mayo           132.0   LB    5  2015   169\n",
       "Cameron Artis-Payne   32.0   RB    5  2015   174\n",
       "\n",
       "[68 rows x 5 columns]"
      ]
     },
     "execution_count": 14,
     "metadata": {},
     "output_type": "execute_result"
    }
   ],
   "source": [
    "draft_columns = [ 'G', 'Pos', 'Rnd', 'Year', 'Pick']\n",
    "myDataFrame[draft_columns]"
   ]
  },
  {
   "cell_type": "code",
   "execution_count": 16,
   "id": "835d095c-cae4-4467-95f4-1a001f0f44ea",
   "metadata": {},
   "outputs": [
    {
     "name": "stdout",
     "output_type": "stream",
     "text": [
      "Rnd\n",
      "1    67.800000\n",
      "2    66.545455\n",
      "3    34.125000\n",
      "4    43.444444\n",
      "5    35.545455\n",
      "6    37.428571\n",
      "7    36.833333\n",
      "Name: G, dtype: float64\n"
     ]
    }
   ],
   "source": [
    "\n",
    "average_gamesround = myDataFrame.groupby(['Rnd'])['G'].mean()\n",
    "\n",
    "# Display the result\n",
    "print(average_gamesround)\n"
   ]
  },
  {
   "cell_type": "code",
   "execution_count": 18,
   "id": "b5a54d0a-68ff-47a8-9c33-460f3899b6a6",
   "metadata": {},
   "outputs": [
    {
     "name": "stdout",
     "output_type": "stream",
     "text": [
      "Pos\n",
      "CB      46.666667\n",
      "DB      26.500000\n",
      "DE      47.750000\n",
      "DT      43.200000\n",
      "FB      78.000000\n",
      "G       78.666667\n",
      "ILB     62.000000\n",
      "K      116.000000\n",
      "LB      47.400000\n",
      "LS            NaN\n",
      "OL      27.666667\n",
      "OLB     73.000000\n",
      "QB      13.500000\n",
      "RB      40.000000\n",
      "S       43.000000\n",
      "T       43.000000\n",
      "TE      57.000000\n",
      "WR      44.857143\n",
      "Name: G, dtype: float64\n"
     ]
    }
   ],
   "source": [
    "\n",
    "average_gamesposition = myDataFrame.groupby(['Pos'])['G'].mean()\n",
    "\n",
    "# Display the result\n",
    "print(average_gamesposition)"
   ]
  },
  {
   "cell_type": "code",
   "execution_count": 49,
   "id": "59455815-5a06-4b07-88f5-57aa96d8dfce",
   "metadata": {},
   "outputs": [
    {
     "name": "stdout",
     "output_type": "stream",
     "text": [
      "Number of first-round picks: 10\n"
     ]
    }
   ],
   "source": [
    "# Filter for first-round picks\n",
    "first_round_picks = myDataFrame[myDataFrame['Rnd'] == 1]\n",
    "\n",
    "# Count the number of first-round picks\n",
    "num_first_round_picks = len(first_round_picks)\n",
    "\n",
    "print(f\"Number of first-round picks: {num_first_round_picks}\")\n"
   ]
  },
  {
   "cell_type": "code",
   "execution_count": 22,
   "id": "c700855a-9e69-4df7-9e57-717bae4f429f",
   "metadata": {},
   "outputs": [],
   "source": [
    "position_groups = {\n",
    "    'C': ('Lineman', 'Offense'), 'DE': ('Lineman', 'Defense'), 'DL': ('Lineman', 'Defense'),\n",
    "    'DT': ('Lineman', 'Defense'), 'FB': ('Lineman', 'Offense'), 'G': ('Lineman', 'Offense'),\n",
    "    'OL': ('Lineman', 'Offense'), 'T': ('Lineman', 'Offense'),\n",
    "\n",
    "    'LB': ('Mids', 'Defense'), 'OLB': ('Mids', 'Defense'),'ILB': ('Mids', 'Defense'),\n",
    "    'P': ('Mids', 'Special Teams'), 'K': ('Mids', 'Special Teams'),'LS': ('Mids', 'Special Teams'),'TE': ('Mids', 'Offense'), 'RB': ('Mids', 'Offense'),\n",
    "\n",
    "    'CB': ('Skills', 'Defense'), 'DB': ('Skills', 'Defense'),\n",
    "    'QB': ('Skills', 'Offense'),\n",
    "    'S': ('Skills', 'Defense'), 'SAF': ('Skills', 'Defense'),\n",
    "    'WR': ('Skills', 'Offense')\n",
    "}\n"
   ]
  },
  {
   "cell_type": "code",
   "execution_count": 26,
   "id": "44cbf7fa-021d-4773-9c17-1499e551aa82",
   "metadata": {},
   "outputs": [
    {
     "data": {
      "text/plain": [
       "{'C': ('Lineman', 'Offense'),\n",
       " 'DE': ('Lineman', 'Defense'),\n",
       " 'DL': ('Lineman', 'Defense'),\n",
       " 'DT': ('Lineman', 'Defense'),\n",
       " 'FB': ('Lineman', 'Offense'),\n",
       " 'G': ('Lineman', 'Offense'),\n",
       " 'OL': ('Lineman', 'Offense'),\n",
       " 'T': ('Lineman', 'Offense'),\n",
       " 'LB': ('Mids', 'Defense'),\n",
       " 'OLB': ('Mids', 'Defense'),\n",
       " 'ILB': ('Mids', 'Defense'),\n",
       " 'P': ('Mids', 'Special Teams'),\n",
       " 'K': ('Mids', 'Special Teams'),\n",
       " 'LS': ('Mids', 'Special Teams'),\n",
       " 'TE': ('Mids', 'Offense'),\n",
       " 'RB': ('Mids', 'Offense'),\n",
       " 'CB': ('Skills', 'Defense'),\n",
       " 'DB': ('Skills', 'Defense'),\n",
       " 'QB': ('Skills', 'Offense'),\n",
       " 'S': ('Skills', 'Defense'),\n",
       " 'SAF': ('Skills', 'Defense'),\n",
       " 'WR': ('Skills', 'Offense')}"
      ]
     },
     "execution_count": 26,
     "metadata": {},
     "output_type": "execute_result"
    }
   ],
   "source": [
    "position_groups"
   ]
  },
  {
   "cell_type": "code",
   "execution_count": 30,
   "id": "53aba106-a4b2-4176-af48-2c1ae8e8f100",
   "metadata": {},
   "outputs": [],
   "source": [
    "# Map positions to group and side\n",
    "myDataFrame['Group'] = myDataFrame['Pos'].map(lambda x: position_groups[x][0])\n",
    "myDataFrame['Side'] = myDataFrame['Pos'].map(lambda x: position_groups[x][1])\n"
   ]
  },
  {
   "cell_type": "code",
   "execution_count": 36,
   "id": "552eaf73-bcbe-416c-8877-f9a1abcc8afb",
   "metadata": {},
   "outputs": [
    {
     "name": "stdout",
     "output_type": "stream",
     "text": [
      "Group    Side         \n",
      "Lineman  Defense          11\n",
      "         Offense          10\n",
      "Mids     Defense          10\n",
      "         Offense          10\n",
      "         Special Teams     2\n",
      "Skills   Defense          15\n",
      "         Offense          10\n",
      "dtype: int64\n"
     ]
    }
   ],
   "source": [
    "grouped_counts = myDataFrame.groupby(['Group', 'Side']).size()\n",
    "print(grouped_counts)\n"
   ]
  },
  {
   "cell_type": "code",
   "execution_count": 40,
   "id": "7ba87587-5484-4455-b04f-17d5b00a68e5",
   "metadata": {},
   "outputs": [
    {
     "name": "stdout",
     "output_type": "stream",
     "text": [
      "Percentage of players who played more than 34 games: 45.59%\n"
     ]
    }
   ],
   "source": [
    "# Filter for players who played more than 34 games\n",
    "players_above_34 = myDataFrame[myDataFrame['G'] > 34]\n",
    "\n",
    "total_players = len(myDataFrame)\n",
    "\n",
    "num_above_34 = len(players_above_34)\n",
    "\n",
    "percentage_above_34 = (num_above_34 / total_players) * 100\n",
    "print(f\"Percentage of players who played more than 34 games: {percentage_above_34:.2f}%\")\n",
    "\n"
   ]
  },
  {
   "cell_type": "code",
   "execution_count": 44,
   "id": "26d1fed5-e2a6-4f6f-8b79-c6681a672808",
   "metadata": {},
   "outputs": [
    {
     "name": "stdout",
     "output_type": "stream",
     "text": [
      "Rnd  Group  \n",
      "1    Lineman    100.000000\n",
      "     Mids       100.000000\n",
      "     Skills      40.000000\n",
      "2    Lineman     66.666667\n",
      "     Mids       100.000000\n",
      "     Skills      71.428571\n",
      "3    Lineman     50.000000\n",
      "     Mids        33.333333\n",
      "     Skills      25.000000\n",
      "4    Lineman     50.000000\n",
      "     Mids        40.000000\n",
      "     Skills      50.000000\n",
      "5    Lineman           NaN\n",
      "     Mids       100.000000\n",
      "     Skills      25.000000\n",
      "6    Lineman     42.857143\n",
      "     Skills            NaN\n",
      "7    Lineman           NaN\n",
      "     Mids              NaN\n",
      "     Skills            NaN\n",
      "dtype: float64\n",
      "Rnd  Group  \n",
      "1    Lineman    4\n",
      "     Mids       1\n",
      "     Skills     2\n",
      "2    Lineman    2\n",
      "     Mids       1\n",
      "     Skills     5\n",
      "3    Lineman    1\n",
      "     Mids       1\n",
      "     Skills     1\n",
      "4    Lineman    1\n",
      "     Mids       2\n",
      "     Skills     1\n",
      "5    Mids       2\n",
      "     Skills     2\n",
      "6    Lineman    3\n",
      "dtype: int64\n"
     ]
    }
   ],
   "source": [
    "# Map positions to group categories (Bigs, Mids, Skills)\n",
    "position_groups = {\n",
    "    'C': 'Lineman', 'DE': 'Lineman', 'DL': 'Lineman', 'DT': 'Lineman',\n",
    "    'FB': 'Lineman', 'G': 'Lineman', 'OL': 'Lineman', 'T': 'Lineman',\n",
    "    'LB': 'Mids', 'OLB': 'Mids', 'P': 'Mids', 'TE': 'Mids',\n",
    "    'CB': 'Skills', 'DB': 'Skills', 'QB': 'Skills',\n",
    "    'RB': 'Skills', 'S': 'Skills', 'SAF': 'Skills', 'WR': 'Skills'\n",
    "}\n",
    "\n",
    "# Add the 'Group' column to the DataFrame\n",
    "myDataFrame['Group'] = myDataFrame['Pos'].map(position_groups)\n",
    "\n",
    "# Filter for players who played more than 34 games\n",
    "players_above_34 = myDataFrame[myDataFrame['G'] > 34]\n",
    "\n",
    "# Group by round and position group to calculate the number of players who played more than 34 games\n",
    "grouped_above_34 = players_above_34.groupby(['Rnd', 'Group']).size()\n",
    "\n",
    "# Group by round and position group to get total number of players\n",
    "total_grouped = myDataFrame.groupby(['Rnd', 'Group']).size()\n",
    "\n",
    "# Calculate the percentage of players who played more than 34 games by round and group\n",
    "percentage_above_34 = (grouped_above_34 / total_grouped) * 100\n",
    "print(percentage_above_34)\n",
    "\n",
    "\n",
    "above34count = (grouped_above_34)\n",
    "print(above34count)\n",
    "\n"
   ]
  },
  {
   "cell_type": "code",
   "execution_count": null,
   "id": "a3bfffb4-c756-439b-904a-9ce7e4ea1686",
   "metadata": {},
   "outputs": [],
   "source": []
  },
  {
   "cell_type": "code",
   "execution_count": null,
   "id": "87c50ed1-c882-48c2-bbfa-42bdb3fd7318",
   "metadata": {},
   "outputs": [],
   "source": []
  }
 ],
 "metadata": {
  "kernelspec": {
   "display_name": "Python 3 (ipykernel)",
   "language": "python",
   "name": "python3"
  },
  "language_info": {
   "codemirror_mode": {
    "name": "ipython",
    "version": 3
   },
   "file_extension": ".py",
   "mimetype": "text/x-python",
   "name": "python",
   "nbconvert_exporter": "python",
   "pygments_lexer": "ipython3",
   "version": "3.11.7"
  }
 },
 "nbformat": 4,
 "nbformat_minor": 5
}
