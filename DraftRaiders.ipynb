{
 "cells": [
  {
   "cell_type": "code",
   "execution_count": 5,
   "id": "826a3613-5029-4bcd-974c-59b4f38750c9",
   "metadata": {},
   "outputs": [],
   "source": [
    "import pandas as pd "
   ]
  },
  {
   "cell_type": "code",
   "execution_count": 13,
   "id": "9bda517b-9232-438c-9251-54028d5ba42d",
   "metadata": {},
   "outputs": [
    {
     "data": {
      "text/html": [
       "<div>\n",
       "<style scoped>\n",
       "    .dataframe tbody tr th:only-of-type {\n",
       "        vertical-align: middle;\n",
       "    }\n",
       "\n",
       "    .dataframe tbody tr th {\n",
       "        vertical-align: top;\n",
       "    }\n",
       "\n",
       "    .dataframe thead th {\n",
       "        text-align: right;\n",
       "    }\n",
       "</style>\n",
       "<table border=\"1\" class=\"dataframe\">\n",
       "  <thead>\n",
       "    <tr style=\"text-align: right;\">\n",
       "      <th></th>\n",
       "      <th>Year</th>\n",
       "      <th>Rnd</th>\n",
       "      <th>Pick</th>\n",
       "      <th>Pos</th>\n",
       "      <th>To</th>\n",
       "      <th>AP1</th>\n",
       "      <th>PB</th>\n",
       "      <th>St</th>\n",
       "      <th>wAV</th>\n",
       "      <th>G</th>\n",
       "      <th>...</th>\n",
       "      <th>Att.1</th>\n",
       "      <th>Yds.1</th>\n",
       "      <th>TD.1</th>\n",
       "      <th>Rec</th>\n",
       "      <th>Yds.2</th>\n",
       "      <th>TD.2</th>\n",
       "      <th>Int.1</th>\n",
       "      <th>Sk</th>\n",
       "      <th>College/Univ</th>\n",
       "      <th>-9999</th>\n",
       "    </tr>\n",
       "    <tr>\n",
       "      <th>Player</th>\n",
       "      <th></th>\n",
       "      <th></th>\n",
       "      <th></th>\n",
       "      <th></th>\n",
       "      <th></th>\n",
       "      <th></th>\n",
       "      <th></th>\n",
       "      <th></th>\n",
       "      <th></th>\n",
       "      <th></th>\n",
       "      <th></th>\n",
       "      <th></th>\n",
       "      <th></th>\n",
       "      <th></th>\n",
       "      <th></th>\n",
       "      <th></th>\n",
       "      <th></th>\n",
       "      <th></th>\n",
       "      <th></th>\n",
       "      <th></th>\n",
       "      <th></th>\n",
       "    </tr>\n",
       "  </thead>\n",
       "  <tbody>\n",
       "    <tr>\n",
       "      <th>Brock Bowers</th>\n",
       "      <td>2024</td>\n",
       "      <td>1</td>\n",
       "      <td>13</td>\n",
       "      <td>TE</td>\n",
       "      <td>2024.0</td>\n",
       "      <td>0</td>\n",
       "      <td>0</td>\n",
       "      <td>1</td>\n",
       "      <td>0.0</td>\n",
       "      <td>12.0</td>\n",
       "      <td>...</td>\n",
       "      <td>3.0</td>\n",
       "      <td>11.0</td>\n",
       "      <td>0.0</td>\n",
       "      <td>84.0</td>\n",
       "      <td>884.0</td>\n",
       "      <td>4.0</td>\n",
       "      <td>NaN</td>\n",
       "      <td>NaN</td>\n",
       "      <td>Georgia</td>\n",
       "      <td>BoweBr01</td>\n",
       "    </tr>\n",
       "    <tr>\n",
       "      <th>Jackson Powers-Johnson</th>\n",
       "      <td>2024</td>\n",
       "      <td>2</td>\n",
       "      <td>44</td>\n",
       "      <td>OL</td>\n",
       "      <td>2024.0</td>\n",
       "      <td>0</td>\n",
       "      <td>0</td>\n",
       "      <td>1</td>\n",
       "      <td>0.0</td>\n",
       "      <td>10.0</td>\n",
       "      <td>...</td>\n",
       "      <td>NaN</td>\n",
       "      <td>NaN</td>\n",
       "      <td>0.0</td>\n",
       "      <td>NaN</td>\n",
       "      <td>NaN</td>\n",
       "      <td>0.0</td>\n",
       "      <td>NaN</td>\n",
       "      <td>NaN</td>\n",
       "      <td>Oregon</td>\n",
       "      <td>PoweJa00</td>\n",
       "    </tr>\n",
       "    <tr>\n",
       "      <th>Delmar Glaze</th>\n",
       "      <td>2024</td>\n",
       "      <td>3</td>\n",
       "      <td>77</td>\n",
       "      <td>OL</td>\n",
       "      <td>2024.0</td>\n",
       "      <td>0</td>\n",
       "      <td>0</td>\n",
       "      <td>1</td>\n",
       "      <td>0.0</td>\n",
       "      <td>12.0</td>\n",
       "      <td>...</td>\n",
       "      <td>NaN</td>\n",
       "      <td>NaN</td>\n",
       "      <td>0.0</td>\n",
       "      <td>NaN</td>\n",
       "      <td>NaN</td>\n",
       "      <td>0.0</td>\n",
       "      <td>NaN</td>\n",
       "      <td>NaN</td>\n",
       "      <td>Maryland</td>\n",
       "      <td>GlazDe00</td>\n",
       "    </tr>\n",
       "    <tr>\n",
       "      <th>Decamerion Richardson</th>\n",
       "      <td>2024</td>\n",
       "      <td>4</td>\n",
       "      <td>112</td>\n",
       "      <td>CB</td>\n",
       "      <td>2024.0</td>\n",
       "      <td>0</td>\n",
       "      <td>0</td>\n",
       "      <td>0</td>\n",
       "      <td>0.0</td>\n",
       "      <td>7.0</td>\n",
       "      <td>...</td>\n",
       "      <td>NaN</td>\n",
       "      <td>NaN</td>\n",
       "      <td>0.0</td>\n",
       "      <td>NaN</td>\n",
       "      <td>NaN</td>\n",
       "      <td>0.0</td>\n",
       "      <td>NaN</td>\n",
       "      <td>NaN</td>\n",
       "      <td>Mississippi St.</td>\n",
       "      <td>RichDe01</td>\n",
       "    </tr>\n",
       "    <tr>\n",
       "      <th>Tommy Eichenberg</th>\n",
       "      <td>2024</td>\n",
       "      <td>5</td>\n",
       "      <td>148</td>\n",
       "      <td>LB</td>\n",
       "      <td>2024.0</td>\n",
       "      <td>0</td>\n",
       "      <td>0</td>\n",
       "      <td>0</td>\n",
       "      <td>0.0</td>\n",
       "      <td>9.0</td>\n",
       "      <td>...</td>\n",
       "      <td>NaN</td>\n",
       "      <td>NaN</td>\n",
       "      <td>0.0</td>\n",
       "      <td>NaN</td>\n",
       "      <td>NaN</td>\n",
       "      <td>0.0</td>\n",
       "      <td>NaN</td>\n",
       "      <td>NaN</td>\n",
       "      <td>Ohio St.</td>\n",
       "      <td>EichTo00</td>\n",
       "    </tr>\n",
       "  </tbody>\n",
       "</table>\n",
       "<p>5 rows × 25 columns</p>\n",
       "</div>"
      ],
      "text/plain": [
       "                        Year  Rnd  Pick Pos      To  AP1  PB  St  wAV     G  \\\n",
       "Player                                                                        \n",
       "Brock Bowers            2024    1    13  TE  2024.0    0   0   1  0.0  12.0   \n",
       "Jackson Powers-Johnson  2024    2    44  OL  2024.0    0   0   1  0.0  10.0   \n",
       "Delmar Glaze            2024    3    77  OL  2024.0    0   0   1  0.0  12.0   \n",
       "Decamerion Richardson   2024    4   112  CB  2024.0    0   0   0  0.0   7.0   \n",
       "Tommy Eichenberg        2024    5   148  LB  2024.0    0   0   0  0.0   9.0   \n",
       "\n",
       "                        ...  Att.1  Yds.1  TD.1   Rec  Yds.2  TD.2  Int.1  Sk  \\\n",
       "Player                  ...                                                     \n",
       "Brock Bowers            ...    3.0   11.0   0.0  84.0  884.0   4.0    NaN NaN   \n",
       "Jackson Powers-Johnson  ...    NaN    NaN   0.0   NaN    NaN   0.0    NaN NaN   \n",
       "Delmar Glaze            ...    NaN    NaN   0.0   NaN    NaN   0.0    NaN NaN   \n",
       "Decamerion Richardson   ...    NaN    NaN   0.0   NaN    NaN   0.0    NaN NaN   \n",
       "Tommy Eichenberg        ...    NaN    NaN   0.0   NaN    NaN   0.0    NaN NaN   \n",
       "\n",
       "                           College/Univ     -9999  \n",
       "Player                                             \n",
       "Brock Bowers                    Georgia  BoweBr01  \n",
       "Jackson Powers-Johnson           Oregon  PoweJa00  \n",
       "Delmar Glaze                   Maryland  GlazDe00  \n",
       "Decamerion Richardson   Mississippi St.  RichDe01  \n",
       "Tommy Eichenberg               Ohio St.  EichTo00  \n",
       "\n",
       "[5 rows x 25 columns]"
      ]
     },
     "execution_count": 13,
     "metadata": {},
     "output_type": "execute_result"
    }
   ],
   "source": [
    "myDataFrame = pd.read_csv(\"./data/raiders.csv\", index_col= \"Player\")\n",
    "myDataFrame.head()"
   ]
  },
  {
   "cell_type": "code",
   "execution_count": 15,
   "id": "2a8872dc-e368-4307-94aa-370f728a5304",
   "metadata": {},
   "outputs": [
    {
     "data": {
      "text/plain": [
       "Player\n",
       "Brock Bowers               TE\n",
       "Jackson Powers-Johnson     OL\n",
       "Delmar Glaze               OL\n",
       "Decamerion Richardson      CB\n",
       "Tommy Eichenberg           LB\n",
       "                         ... \n",
       "Neiron Ball               OLB\n",
       "Max Valles                OLB\n",
       "Anthony Morris             OL\n",
       "Andre Debose               WR\n",
       "Dexter McDonald            CB\n",
       "Name: Pos, Length: 81, dtype: object"
      ]
     },
     "execution_count": 15,
     "metadata": {},
     "output_type": "execute_result"
    }
   ],
   "source": [
    "position = myDataFrame [\"Pos\"]\n",
    "position"
   ]
  },
  {
   "cell_type": "code",
   "execution_count": 17,
   "id": "ce541ea0-b37b-489b-b60e-5635d49421de",
   "metadata": {},
   "outputs": [
    {
     "data": {
      "text/plain": [
       "Player\n",
       "Brock Bowers              12.0\n",
       "Jackson Powers-Johnson    10.0\n",
       "Delmar Glaze              12.0\n",
       "Decamerion Richardson      7.0\n",
       "Tommy Eichenberg           9.0\n",
       "                          ... \n",
       "Neiron Ball                6.0\n",
       "Max Valles                 NaN\n",
       "Anthony Morris             NaN\n",
       "Andre Debose               NaN\n",
       "Dexter McDonald           27.0\n",
       "Name: G, Length: 81, dtype: float64"
      ]
     },
     "execution_count": 17,
     "metadata": {},
     "output_type": "execute_result"
    }
   ],
   "source": [
    "games = myDataFrame [\"G\"]\n",
    "games"
   ]
  },
  {
   "cell_type": "code",
   "execution_count": 19,
   "id": "5646a58e-ef8e-4309-b1e9-7b9fd3688954",
   "metadata": {},
   "outputs": [
    {
     "data": {
      "text/plain": [
       "Player\n",
       "Jylan Ware     1.0\n",
       "Elijah Hood    1.0\n",
       "Connor Cook    1.0\n",
       "Trey Taylor    4.0\n",
       "Dylan Laube    5.0\n",
       "Name: G, dtype: float64"
      ]
     },
     "execution_count": 19,
     "metadata": {},
     "output_type": "execute_result"
    }
   ],
   "source": [
    "sortedGames = games.sort_values()\n",
    "sortedGames.head()"
   ]
  },
  {
   "cell_type": "code",
   "execution_count": 21,
   "id": "631af88c-46aa-4e7a-a5cf-76b046bb4b8f",
   "metadata": {},
   "outputs": [
    {
     "data": {
      "text/plain": [
       "150.0"
      ]
     },
     "execution_count": 21,
     "metadata": {},
     "output_type": "execute_result"
    }
   ],
   "source": [
    "myDataFrame[\"G\"].max()"
   ]
  },
  {
   "cell_type": "code",
   "execution_count": 23,
   "id": "24f21ab8-b1d8-47d4-9683-afa499f11b38",
   "metadata": {},
   "outputs": [
    {
     "data": {
      "text/html": [
       "<div>\n",
       "<style scoped>\n",
       "    .dataframe tbody tr th:only-of-type {\n",
       "        vertical-align: middle;\n",
       "    }\n",
       "\n",
       "    .dataframe tbody tr th {\n",
       "        vertical-align: top;\n",
       "    }\n",
       "\n",
       "    .dataframe thead th {\n",
       "        text-align: right;\n",
       "    }\n",
       "</style>\n",
       "<table border=\"1\" class=\"dataframe\">\n",
       "  <thead>\n",
       "    <tr style=\"text-align: right;\">\n",
       "      <th></th>\n",
       "      <th>G</th>\n",
       "      <th>Pos</th>\n",
       "      <th>Rnd</th>\n",
       "      <th>Year</th>\n",
       "      <th>Pick</th>\n",
       "    </tr>\n",
       "    <tr>\n",
       "      <th>Player</th>\n",
       "      <th></th>\n",
       "      <th></th>\n",
       "      <th></th>\n",
       "      <th></th>\n",
       "      <th></th>\n",
       "    </tr>\n",
       "  </thead>\n",
       "  <tbody>\n",
       "    <tr>\n",
       "      <th>Brock Bowers</th>\n",
       "      <td>12.0</td>\n",
       "      <td>TE</td>\n",
       "      <td>1</td>\n",
       "      <td>2024</td>\n",
       "      <td>13</td>\n",
       "    </tr>\n",
       "    <tr>\n",
       "      <th>Jackson Powers-Johnson</th>\n",
       "      <td>10.0</td>\n",
       "      <td>OL</td>\n",
       "      <td>2</td>\n",
       "      <td>2024</td>\n",
       "      <td>44</td>\n",
       "    </tr>\n",
       "    <tr>\n",
       "      <th>Delmar Glaze</th>\n",
       "      <td>12.0</td>\n",
       "      <td>OL</td>\n",
       "      <td>3</td>\n",
       "      <td>2024</td>\n",
       "      <td>77</td>\n",
       "    </tr>\n",
       "    <tr>\n",
       "      <th>Decamerion Richardson</th>\n",
       "      <td>7.0</td>\n",
       "      <td>CB</td>\n",
       "      <td>4</td>\n",
       "      <td>2024</td>\n",
       "      <td>112</td>\n",
       "    </tr>\n",
       "    <tr>\n",
       "      <th>Tommy Eichenberg</th>\n",
       "      <td>9.0</td>\n",
       "      <td>LB</td>\n",
       "      <td>5</td>\n",
       "      <td>2024</td>\n",
       "      <td>148</td>\n",
       "    </tr>\n",
       "    <tr>\n",
       "      <th>...</th>\n",
       "      <td>...</td>\n",
       "      <td>...</td>\n",
       "      <td>...</td>\n",
       "      <td>...</td>\n",
       "      <td>...</td>\n",
       "    </tr>\n",
       "    <tr>\n",
       "      <th>Neiron Ball</th>\n",
       "      <td>6.0</td>\n",
       "      <td>OLB</td>\n",
       "      <td>5</td>\n",
       "      <td>2015</td>\n",
       "      <td>161</td>\n",
       "    </tr>\n",
       "    <tr>\n",
       "      <th>Max Valles</th>\n",
       "      <td>NaN</td>\n",
       "      <td>OLB</td>\n",
       "      <td>6</td>\n",
       "      <td>2015</td>\n",
       "      <td>179</td>\n",
       "    </tr>\n",
       "    <tr>\n",
       "      <th>Anthony Morris</th>\n",
       "      <td>NaN</td>\n",
       "      <td>OL</td>\n",
       "      <td>7</td>\n",
       "      <td>2015</td>\n",
       "      <td>218</td>\n",
       "    </tr>\n",
       "    <tr>\n",
       "      <th>Andre Debose</th>\n",
       "      <td>NaN</td>\n",
       "      <td>WR</td>\n",
       "      <td>7</td>\n",
       "      <td>2015</td>\n",
       "      <td>221</td>\n",
       "    </tr>\n",
       "    <tr>\n",
       "      <th>Dexter McDonald</th>\n",
       "      <td>27.0</td>\n",
       "      <td>CB</td>\n",
       "      <td>7</td>\n",
       "      <td>2015</td>\n",
       "      <td>242</td>\n",
       "    </tr>\n",
       "  </tbody>\n",
       "</table>\n",
       "<p>81 rows × 5 columns</p>\n",
       "</div>"
      ],
      "text/plain": [
       "                           G  Pos  Rnd  Year  Pick\n",
       "Player                                            \n",
       "Brock Bowers            12.0   TE    1  2024    13\n",
       "Jackson Powers-Johnson  10.0   OL    2  2024    44\n",
       "Delmar Glaze            12.0   OL    3  2024    77\n",
       "Decamerion Richardson    7.0   CB    4  2024   112\n",
       "Tommy Eichenberg         9.0   LB    5  2024   148\n",
       "...                      ...  ...  ...   ...   ...\n",
       "Neiron Ball              6.0  OLB    5  2015   161\n",
       "Max Valles               NaN  OLB    6  2015   179\n",
       "Anthony Morris           NaN   OL    7  2015   218\n",
       "Andre Debose             NaN   WR    7  2015   221\n",
       "Dexter McDonald         27.0   CB    7  2015   242\n",
       "\n",
       "[81 rows x 5 columns]"
      ]
     },
     "execution_count": 23,
     "metadata": {},
     "output_type": "execute_result"
    }
   ],
   "source": [
    "draft_columns = [ 'G', 'Pos', 'Rnd', 'Year', 'Pick']\n",
    "myDataFrame[draft_columns]"
   ]
  },
  {
   "cell_type": "code",
   "execution_count": 27,
   "id": "835d095c-cae4-4467-95f4-1a001f0f44ea",
   "metadata": {},
   "outputs": [
    {
     "name": "stdout",
     "output_type": "stream",
     "text": [
      "Rnd\n",
      "1    55.750000\n",
      "2    52.625000\n",
      "3    39.714286\n",
      "4    41.200000\n",
      "5    35.090909\n",
      "6    16.666667\n",
      "7    18.384615\n",
      "Name: G, dtype: float64\n"
     ]
    }
   ],
   "source": [
    "\n",
    "average_gamesround = myDataFrame.groupby(['Rnd'])['G'].mean()\n",
    "\n",
    "# Display the result\n",
    "print(average_gamesround)\n"
   ]
  },
  {
   "cell_type": "code",
   "execution_count": 29,
   "id": "b5a54d0a-68ff-47a8-9c33-460f3899b6a6",
   "metadata": {},
   "outputs": [
    {
     "name": "stdout",
     "output_type": "stream",
     "text": [
      "Pos\n",
      "CB     29.777778\n",
      "DB     32.333333\n",
      "DE     72.000000\n",
      "DL      6.000000\n",
      "DT     40.750000\n",
      "FS      4.000000\n",
      "G      67.000000\n",
      "ILB    24.000000\n",
      "LB     24.333333\n",
      "OL     23.666667\n",
      "OLB    20.000000\n",
      "P      21.000000\n",
      "QB      8.500000\n",
      "RB     32.500000\n",
      "S      38.428571\n",
      "T      52.250000\n",
      "TE     43.000000\n",
      "WR     50.142857\n",
      "Name: G, dtype: float64\n"
     ]
    }
   ],
   "source": [
    "\n",
    "average_gamesposition = myDataFrame.groupby(['Pos'])['G'].mean()\n",
    "\n",
    "# Display the result\n",
    "print(average_gamesposition)"
   ]
  },
  {
   "cell_type": "code",
   "execution_count": 37,
   "id": "59455815-5a06-4b07-88f5-57aa96d8dfce",
   "metadata": {},
   "outputs": [
    {
     "name": "stdout",
     "output_type": "stream",
     "text": [
      "Number of first-round picks: 12\n"
     ]
    }
   ],
   "source": [
    "# Filter for first-round picks\n",
    "first_round_picks = myDataFrame[myDataFrame['Rnd'] == 1]\n",
    "\n",
    "# Count the number of first-round picks\n",
    "num_first_round_picks = len(first_round_picks)\n",
    "\n",
    "print(f\"Number of first-round picks: {num_first_round_picks}\")\n"
   ]
  },
  {
   "cell_type": "code",
   "execution_count": 48,
   "id": "c700855a-9e69-4df7-9e57-717bae4f429f",
   "metadata": {},
   "outputs": [],
   "source": [
    "position_groups = {\n",
    "    'C': ('Lineman', 'Offense'), 'DE': ('Lineman', 'Defense'), 'DL': ('Lineman', 'Defense'),\n",
    "    'DT': ('Lineman', 'Defense'), 'FB': ('Lineman', 'Offense'), 'G': ('Lineman', 'Offense'),\n",
    "    'OL': ('Lineman', 'Offense'), 'T': ('Lineman', 'Offense'),\n",
    "\n",
    "    'LB': ('Mids', 'Defense'), 'OLB': ('Mids', 'Defense'),'ILB': ('Mids', 'Defense'),\n",
    "    'P': ('Mids', 'Special Teams'), 'K': ('Mids', 'Special Teams'),'LS': ('Mids', 'Special Teams'),'TE': ('Mids', 'Offense'), 'RB': ('Mids', 'Offense'),\n",
    "\n",
    "    'CB': ('Skills', 'Defense'), \n",
    "    'FS': ('Skills', 'Defense'),\n",
    "    'DB': ('Skills', 'Defense'),\n",
    "    'QB': ('Skills', 'Offense'),\n",
    "    'S': ('Skills', 'Defense'), 'SAF': ('Skills', 'Defense'),\n",
    "    'WR': ('Skills', 'Offense')\n",
    "}\n"
   ]
  },
  {
   "cell_type": "code",
   "execution_count": 50,
   "id": "44cbf7fa-021d-4773-9c17-1499e551aa82",
   "metadata": {},
   "outputs": [
    {
     "data": {
      "text/plain": [
       "{'C': ('Lineman', 'Offense'),\n",
       " 'DE': ('Lineman', 'Defense'),\n",
       " 'DL': ('Lineman', 'Defense'),\n",
       " 'DT': ('Lineman', 'Defense'),\n",
       " 'FB': ('Lineman', 'Offense'),\n",
       " 'G': ('Lineman', 'Offense'),\n",
       " 'OL': ('Lineman', 'Offense'),\n",
       " 'T': ('Lineman', 'Offense'),\n",
       " 'LB': ('Mids', 'Defense'),\n",
       " 'OLB': ('Mids', 'Defense'),\n",
       " 'ILB': ('Mids', 'Defense'),\n",
       " 'P': ('Mids', 'Special Teams'),\n",
       " 'K': ('Mids', 'Special Teams'),\n",
       " 'LS': ('Mids', 'Special Teams'),\n",
       " 'TE': ('Mids', 'Offense'),\n",
       " 'RB': ('Mids', 'Offense'),\n",
       " 'CB': ('Skills', 'Defense'),\n",
       " 'FS': ('Skills', 'Defense'),\n",
       " 'DB': ('Skills', 'Defense'),\n",
       " 'QB': ('Skills', 'Offense'),\n",
       " 'S': ('Skills', 'Defense'),\n",
       " 'SAF': ('Skills', 'Defense'),\n",
       " 'WR': ('Skills', 'Offense')}"
      ]
     },
     "execution_count": 50,
     "metadata": {},
     "output_type": "execute_result"
    }
   ],
   "source": [
    "position_groups"
   ]
  },
  {
   "cell_type": "code",
   "execution_count": 52,
   "id": "53aba106-a4b2-4176-af48-2c1ae8e8f100",
   "metadata": {},
   "outputs": [],
   "source": [
    "# Map positions to group and side\n",
    "myDataFrame['Group'] = myDataFrame['Pos'].map(lambda x: position_groups[x][0])\n",
    "myDataFrame['Side'] = myDataFrame['Pos'].map(lambda x: position_groups[x][1])\n"
   ]
  },
  {
   "cell_type": "code",
   "execution_count": 54,
   "id": "552eaf73-bcbe-416c-8877-f9a1abcc8afb",
   "metadata": {},
   "outputs": [
    {
     "name": "stdout",
     "output_type": "stream",
     "text": [
      "Group    Side         \n",
      "Lineman  Defense          16\n",
      "         Offense          14\n",
      "Mids     Defense           9\n",
      "         Offense          10\n",
      "         Special Teams     1\n",
      "Skills   Defense          21\n",
      "         Offense          10\n",
      "dtype: int64\n"
     ]
    }
   ],
   "source": [
    "grouped_counts = myDataFrame.groupby(['Group', 'Side']).size()\n",
    "print(grouped_counts)\n"
   ]
  },
  {
   "cell_type": "code",
   "execution_count": 56,
   "id": "7ba87587-5484-4455-b04f-17d5b00a68e5",
   "metadata": {},
   "outputs": [
    {
     "name": "stdout",
     "output_type": "stream",
     "text": [
      "Percentage of players who played more than 34 games: 41.98%\n"
     ]
    }
   ],
   "source": [
    "# Filter for players who played more than 34 games\n",
    "players_above_34 = myDataFrame[myDataFrame['G'] > 34]\n",
    "\n",
    "total_players = len(myDataFrame)\n",
    "\n",
    "num_above_34 = len(players_above_34)\n",
    "\n",
    "percentage_above_34 = (num_above_34 / total_players) * 100\n",
    "print(f\"Percentage of players who played more than 34 games: {percentage_above_34:.2f}%\")\n",
    "\n"
   ]
  },
  {
   "cell_type": "code",
   "execution_count": 60,
   "id": "26d1fed5-e2a6-4f6f-8b79-c6681a672808",
   "metadata": {},
   "outputs": [
    {
     "name": "stdout",
     "output_type": "stream",
     "text": [
      "Rnd  Group  \n",
      "1    Lineman     66.666667\n",
      "     Mids              NaN\n",
      "     Skills      57.142857\n",
      "2    Lineman     75.000000\n",
      "     Mids              NaN\n",
      "     Skills      66.666667\n",
      "3    Lineman     62.500000\n",
      "     Mids       100.000000\n",
      "     Skills      60.000000\n",
      "4    Lineman     80.000000\n",
      "     Mids       100.000000\n",
      "     Skills      22.222222\n",
      "5    Lineman     50.000000\n",
      "     Mids        25.000000\n",
      "     Skills      75.000000\n",
      "6    Mids              NaN\n",
      "     Skills            NaN\n",
      "7    Lineman     25.000000\n",
      "     Skills            NaN\n",
      "dtype: float64\n",
      "Rnd  Group  \n",
      "1    Lineman    2\n",
      "     Skills     4\n",
      "2    Lineman    3\n",
      "     Skills     2\n",
      "3    Lineman    5\n",
      "     Mids       1\n",
      "     Skills     3\n",
      "4    Lineman    4\n",
      "     Mids       1\n",
      "     Skills     2\n",
      "5    Lineman    1\n",
      "     Mids       1\n",
      "     Skills     3\n",
      "7    Lineman    2\n",
      "dtype: int64\n"
     ]
    }
   ],
   "source": [
    "# Map positions to group categories (Bigs, Mids, Skills)\n",
    "position_groups = {\n",
    "    'C': 'Lineman', 'DE': 'Lineman', 'DL': 'Lineman', 'DT': 'Lineman',\n",
    "    'FB': 'Lineman', 'G': 'Lineman', 'OL': 'Lineman', 'T': 'Lineman',\n",
    "    'LB': 'Mids', 'OLB': 'Mids', 'P': 'Mids', 'TE': 'Mids',\n",
    "    'CB': 'Skills', 'DB': 'Skills', 'QB': 'Skills',\n",
    "    'RB': 'Skills', 'S': 'Skills', 'SAF': 'Skills', 'WR': 'Skills'\n",
    "}\n",
    "\n",
    "# Add the 'Group' column to the DataFrame\n",
    "myDataFrame['Group'] = myDataFrame['Pos'].map(position_groups)\n",
    "\n",
    "# Filter for players who played more than 34 games\n",
    "players_above_34 = myDataFrame[myDataFrame['G'] > 34]\n",
    "\n",
    "# Group by round and position group to calculate the number of players who played more than 34 games\n",
    "grouped_above_34 = players_above_34.groupby(['Rnd', 'Group']).size()\n",
    "\n",
    "# Group by round and position group to get total number of players\n",
    "total_grouped = myDataFrame.groupby(['Rnd', 'Group']).size()\n",
    "\n",
    "# Calculate the percentage of players who played more than 34 games by round and group\n",
    "percentage_above_34 = (grouped_above_34 / total_grouped) * 100\n",
    "print(percentage_above_34)\n",
    "\n",
    "\n",
    "above34count = (grouped_above_34)\n",
    "print(above34count)\n",
    "\n"
   ]
  },
  {
   "cell_type": "code",
   "execution_count": null,
   "id": "a3bfffb4-c756-439b-904a-9ce7e4ea1686",
   "metadata": {},
   "outputs": [],
   "source": []
  }
 ],
 "metadata": {
  "kernelspec": {
   "display_name": "Python 3 (ipykernel)",
   "language": "python",
   "name": "python3"
  },
  "language_info": {
   "codemirror_mode": {
    "name": "ipython",
    "version": 3
   },
   "file_extension": ".py",
   "mimetype": "text/x-python",
   "name": "python",
   "nbconvert_exporter": "python",
   "pygments_lexer": "ipython3",
   "version": "3.11.7"
  }
 },
 "nbformat": 4,
 "nbformat_minor": 5
}
