{
 "cells": [
  {
   "cell_type": "code",
   "execution_count": 1,
   "id": "abfca8e8-45b1-45aa-b3bd-4ccd222ad4c1",
   "metadata": {},
   "outputs": [],
   "source": [
    "import pandas as pd "
   ]
  },
  {
   "cell_type": "code",
   "execution_count": 3,
   "id": "9837a7b3-2b70-40a8-98d8-2c966da52dd6",
   "metadata": {},
   "outputs": [
    {
     "name": "stdout",
     "output_type": "stream",
     "text": [
      "                   Year  Rnd  Pick Pos      To  AP1  PB  St   wAV      G  ...  \\\n",
      "Player                                                                    ...   \n",
      "Nate Wiggins       2024    1    30  CB  2024.0    0   0   0   0.0   11.0  ...   \n",
      "Roger Rosengarten  2024    2    62  OL  2024.0    0   0   1   0.0   13.0  ...   \n",
      "Adisa Isaac        2024    3    93  DE  2024.0    0   0   0   0.0    4.0  ...   \n",
      "Devontez Walker    2024    4   113  WR  2024.0    0   0   0   0.0    5.0  ...   \n",
      "T.J. Tampa         2024    4   130  DB  2024.0    0   0   0   0.0    4.0  ...   \n",
      "...                 ...  ...   ...  ..     ...  ...  ..  ..   ...    ...  ...   \n",
      "DeAndre Smelter    2015    4   132  WR  2016.0    0   0   0   0.0    2.0  ...   \n",
      "Bradley Pinion     2015    5   165   P  2024.0    0   0   2  12.0  157.0  ...   \n",
      "Ian Silberman      2015    6   190   G  2018.0    0   0   0   0.0    3.0  ...   \n",
      "Trent Brown        2015    7   244   G  2024.0    0   1   5  39.0  103.0  ...   \n",
      "Rory Anderson      2015    7   254  TE     NaN    0   0   0   NaN    NaN  ...   \n",
      "\n",
      "                   Att.1  Yds.1  TD.1  Rec  Yds.2  TD.2  Int.1  Sk  \\\n",
      "Player                                                               \n",
      "Nate Wiggins         NaN    NaN   0.0  NaN    NaN   0.0    NaN NaN   \n",
      "Roger Rosengarten    NaN    NaN   0.0  NaN    NaN   0.0    NaN NaN   \n",
      "Adisa Isaac          NaN    NaN   0.0  NaN    NaN   0.0    NaN NaN   \n",
      "Devontez Walker      NaN    NaN   0.0  NaN    NaN   0.0    NaN NaN   \n",
      "T.J. Tampa           NaN    NaN   0.0  NaN    NaN   0.0    NaN NaN   \n",
      "...                  ...    ...   ...  ...    ...   ...    ...  ..   \n",
      "DeAndre Smelter      NaN    NaN   0.0  1.0   23.0   0.0    NaN NaN   \n",
      "Bradley Pinion       NaN    NaN   0.0  NaN    NaN   0.0    NaN NaN   \n",
      "Ian Silberman        NaN    NaN   0.0  NaN    NaN   0.0    NaN NaN   \n",
      "Trent Brown          NaN    NaN   0.0  NaN    NaN   0.0    NaN NaN   \n",
      "Rory Anderson        NaN    NaN   NaN  NaN    NaN   NaN    NaN NaN   \n",
      "\n",
      "                     College/Univ     -9999  \n",
      "Player                                       \n",
      "Nate Wiggins              Clemson  WiggNa00  \n",
      "Roger Rosengarten      Washington  RoseRo01  \n",
      "Adisa Isaac              Penn St.  IsaaAd00  \n",
      "Devontez Walker    North Carolina  WalkDe01  \n",
      "T.J. Tampa               Iowa St.  TampTJ00  \n",
      "...                           ...       ...  \n",
      "DeAndre Smelter      Georgia Tech  SmelDe00  \n",
      "Bradley Pinion            Clemson  PiniBr00  \n",
      "Ian Silberman         Boston Col.  SilbIa00  \n",
      "Trent Brown               Florida  BrowTr02  \n",
      "Rory Anderson      South Carolina  AndeRo01  \n",
      "\n",
      "[651 rows x 25 columns]\n"
     ]
    }
   ],
   "source": [
    "import pandas as pd\n",
    "\n",
    "# Load the CSV files into dataframes\n",
    "myDataFrame = pd.read_csv(\"./data/ravens.csv\", index_col=\"Player\")\n",
    "myDataFrame2 = pd.read_csv(\"./data/bears.csv\", index_col=\"Player\")\n",
    "myDataFrame3 = pd.read_csv(\"./data/raiders.csv\", index_col=\"Player\")\n",
    "myDataFrame4 = pd.read_csv(\"./data/colts.csv\", index_col=\"Player\")\n",
    "myDataFrame5 = pd.read_csv(\"./data/eagles.csv\", index_col=\"Player\")\n",
    "myDataFrame6 = pd.read_csv(\"./data/patriots.csv\", index_col=\"Player\")\n",
    "myDataFrame7 = pd.read_csv(\"./data/panthers.csv\", index_col=\"Player\")\n",
    "myDataFrame8 = pd.read_csv(\"./data/niners.csv\", index_col=\"Player\")\n",
    "\n",
    "# Combine all dataframes\n",
    "combined_df = pd.concat([\n",
    "    myDataFrame,\n",
    "    myDataFrame2,\n",
    "    myDataFrame3,\n",
    "    myDataFrame4,\n",
    "    myDataFrame5,\n",
    "    myDataFrame6,\n",
    "    myDataFrame7,\n",
    "    myDataFrame8\n",
    "])\n",
    "\n",
    "# Display the combined dataframe\n",
    "print(combined_df)\n"
   ]
  },
  {
   "cell_type": "code",
   "execution_count": null,
   "id": "65663a5a-6f66-478b-bede-5dbfa2c7f8c7",
   "metadata": {},
   "outputs": [],
   "source": []
  },
  {
   "cell_type": "code",
   "execution_count": 6,
   "id": "5d23428f-f292-43d8-92a1-a3ded36ddfe4",
   "metadata": {},
   "outputs": [
    {
     "name": "stdout",
     "output_type": "stream",
     "text": [
      "Number of players drafted in each round:\n",
      "Rnd\n",
      "1     79\n",
      "2     77\n",
      "3     97\n",
      "4    111\n",
      "5     97\n",
      "6    104\n",
      "7     86\n",
      "dtype: int64\n"
     ]
    }
   ],
   "source": [
    "# Group by the 'Rnd' column and count the number of players in each round\n",
    "round_counts = combined_df.groupby('Rnd').size()\n",
    "\n",
    "# Display the result\n",
    "print(\"Number of players drafted in each round:\")\n",
    "print(round_counts)\n"
   ]
  },
  {
   "cell_type": "code",
   "execution_count": 8,
   "id": "ee14dc9a-10dc-499b-a886-440a823c5319",
   "metadata": {},
   "outputs": [
    {
     "name": "stdout",
     "output_type": "stream",
     "text": [
      "Average games played per round:\n",
      "Rnd\n",
      "1    61.784810\n",
      "2    55.597403\n",
      "3    45.784946\n",
      "4    45.416667\n",
      "5    45.193182\n",
      "6    33.269663\n",
      "7    33.814286\n",
      "Name: G, dtype: float64\n"
     ]
    }
   ],
   "source": [
    "# Calculate the average number of games played per round\n",
    "games_per_round = combined_df.groupby('Rnd')['G'].mean()\n",
    "\n",
    "# Display the result\n",
    "print(\"Average games played per round:\")\n",
    "print(games_per_round)\n"
   ]
  },
  {
   "cell_type": "code",
   "execution_count": 10,
   "id": "5613f4b0-2de8-44e5-8fc9-cfeef2d11f2a",
   "metadata": {},
   "outputs": [
    {
     "name": "stdout",
     "output_type": "stream",
     "text": [
      "Total games played per round:\n",
      "Rnd\n",
      "1    4881.0\n",
      "2    4281.0\n",
      "3    4258.0\n",
      "4    4905.0\n",
      "5    3977.0\n",
      "6    2961.0\n",
      "7    2367.0\n",
      "Name: G, dtype: float64\n"
     ]
    }
   ],
   "source": [
    "# Calculate the total games played per round\n",
    "total_games_per_round = combined_df.groupby('Rnd')['G'].sum()\n",
    "\n",
    "# Display the result\n",
    "print(\"Total games played per round:\")\n",
    "print(total_games_per_round)\n"
   ]
  },
  {
   "cell_type": "code",
   "execution_count": null,
   "id": "f518ee52-2f84-4afd-9c81-e446c4929c54",
   "metadata": {},
   "outputs": [],
   "source": [
    "total players per round drafted"
   ]
  },
  {
   "cell_type": "code",
   "execution_count": 13,
   "id": "66c09148-b6d9-4d57-8f8c-e44279011e8f",
   "metadata": {},
   "outputs": [
    {
     "name": "stdout",
     "output_type": "stream",
     "text": [
      "Offense: 148 players have played over 34 games.\n",
      "Defense: 163 players have played over 34 games.\n",
      "Linemen: 122 players have played over 34 games.\n",
      "Skills: 111 players have played over 34 games.\n",
      "Mids: 85 players have played over 34 games.\n"
     ]
    }
   ],
   "source": [
    "import pandas as pd\n",
    "\n",
    "# Example combined DataFrame (replace with your actual combined dataset)\n",
    "# Assuming columns include 'Pos' for position and 'G' for games played\n",
    "\n",
    "# Position groups mapping\n",
    "position_groups = {\n",
    "    'C': ('Lineman', 'Offense'), 'DE': ('Lineman', 'Defense'), 'DL': ('Lineman', 'Defense'),\n",
    "    'DT': ('Lineman', 'Defense'), 'FB': ('Lineman', 'Offense'), 'G': ('Lineman', 'Offense'),\n",
    "    'OL': ('Lineman', 'Offense'), 'T': ('Lineman', 'Offense'),\n",
    "\n",
    "    'LB': ('Mids', 'Defense'), 'OLB': ('Mids', 'Defense'), 'ILB': ('Mids', 'Defense'),\n",
    "    'P': ('Mids', 'Special Teams'), 'K': ('Mids', 'Special Teams'), 'LS': ('Mids', 'Special Teams'), \n",
    "    'TE': ('Mids', 'Offense'), 'RB': ('Mids', 'Offense'),\n",
    "\n",
    "    'CB': ('Skills', 'Defense'), 'DB': ('Skills', 'Defense'),\n",
    "    'QB': ('Skills', 'Offense'),\n",
    "    'S': ('Skills', 'Defense'), 'SAF': ('Skills', 'Defense'),\n",
    "    'WR': ('Skills', 'Offense')\n",
    "}\n",
    "\n",
    "# Add position group columns\n",
    "combined_df['Position Group'] = combined_df['Pos'].map(lambda pos: position_groups.get(pos, ('Unknown', 'Unknown'))[0])\n",
    "combined_df['Side'] = combined_df['Pos'].map(lambda pos: position_groups.get(pos, ('Unknown', 'Unknown'))[1])\n",
    "\n",
    "# Define the threshold for games played\n",
    "Y = 34\n",
    "\n",
    "# Filter players who played more than Y games\n",
    "filtered_df = combined_df[combined_df['G'] > Y]\n",
    "\n",
    "# Group and count players by position group and side\n",
    "offense_count = filtered_df[filtered_df['Side'] == 'Offense'].shape[0]\n",
    "defense_count = filtered_df[filtered_df['Side'] == 'Defense'].shape[0]\n",
    "linemen_count = filtered_df[filtered_df['Position Group'] == 'Lineman'].shape[0]\n",
    "skills_count = filtered_df[filtered_df['Position Group'] == 'Skills'].shape[0]\n",
    "mids_count = filtered_df[filtered_df['Position Group'] == 'Mids'].shape[0]\n",
    "\n",
    "# Print results\n",
    "print(f\"Offense: {offense_count} players have played over {Y} games.\")\n",
    "print(f\"Defense: {defense_count} players have played over {Y} games.\")\n",
    "print(f\"Linemen: {linemen_count} players have played over {Y} games.\")\n",
    "print(f\"Skills: {skills_count} players have played over {Y} games.\")\n",
    "print(f\"Mids: {mids_count} players have played over {Y} games.\")\n"
   ]
  },
  {
   "cell_type": "code",
   "execution_count": 15,
   "id": "5a6e2352-4150-49ea-8acf-868883ba33fd",
   "metadata": {},
   "outputs": [
    {
     "name": "stdout",
     "output_type": "stream",
     "text": [
      "Offense: 317 players drafted.\n",
      "Defense: 318 players drafted.\n",
      "Lineman: 229 players drafted.\n",
      "Skills: 252 players drafted.\n",
      "Mids: 168 players drafted.\n"
     ]
    }
   ],
   "source": [
    "# Calculate total players in each group\n",
    "offense_players = combined_df[combined_df['Side'] == 'Offense'].shape[0]\n",
    "defense_players = combined_df[combined_df['Side'] == 'Defense'].shape[0]\n",
    "linemen_players = combined_df[combined_df['Position Group'] == 'Lineman'].shape[0]\n",
    "skills_players = combined_df[combined_df['Position Group'] == 'Skills'].shape[0]\n",
    "mids_players = combined_df[combined_df['Position Group'] == 'Mids'].shape[0]\n",
    "\n",
    "# Print the results\n",
    "print(f\"Offense: {offense_players} players drafted.\")\n",
    "print(f\"Defense: {defense_players} players drafted.\")\n",
    "print(f\"Lineman: {linemen_players} players drafted.\")\n",
    "print(f\"Skills: {skills_players} players drafted.\")\n",
    "print(f\"Mids: {mids_players} players drafted.\")\n"
   ]
  },
  {
   "cell_type": "code",
   "execution_count": null,
   "id": "2cf04a26-0f40-461e-81cc-d1cd7b822845",
   "metadata": {},
   "outputs": [],
   "source": []
  }
 ],
 "metadata": {
  "kernelspec": {
   "display_name": "Python 3 (ipykernel)",
   "language": "python",
   "name": "python3"
  },
  "language_info": {
   "codemirror_mode": {
    "name": "ipython",
    "version": 3
   },
   "file_extension": ".py",
   "mimetype": "text/x-python",
   "name": "python",
   "nbconvert_exporter": "python",
   "pygments_lexer": "ipython3",
   "version": "3.11.7"
  }
 },
 "nbformat": 4,
 "nbformat_minor": 5
}
