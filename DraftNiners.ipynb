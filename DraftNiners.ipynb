{
 "cells": [
  {
   "cell_type": "code",
   "execution_count": 2,
   "id": "826a3613-5029-4bcd-974c-59b4f38750c9",
   "metadata": {},
   "outputs": [],
   "source": [
    "import pandas as pd "
   ]
  },
  {
   "cell_type": "code",
   "execution_count": 4,
   "id": "9bda517b-9232-438c-9251-54028d5ba42d",
   "metadata": {},
   "outputs": [
    {
     "data": {
      "text/html": [
       "<div>\n",
       "<style scoped>\n",
       "    .dataframe tbody tr th:only-of-type {\n",
       "        vertical-align: middle;\n",
       "    }\n",
       "\n",
       "    .dataframe tbody tr th {\n",
       "        vertical-align: top;\n",
       "    }\n",
       "\n",
       "    .dataframe thead th {\n",
       "        text-align: right;\n",
       "    }\n",
       "</style>\n",
       "<table border=\"1\" class=\"dataframe\">\n",
       "  <thead>\n",
       "    <tr style=\"text-align: right;\">\n",
       "      <th></th>\n",
       "      <th>Year</th>\n",
       "      <th>Rnd</th>\n",
       "      <th>Pick</th>\n",
       "      <th>Pos</th>\n",
       "      <th>To</th>\n",
       "      <th>AP1</th>\n",
       "      <th>PB</th>\n",
       "      <th>St</th>\n",
       "      <th>wAV</th>\n",
       "      <th>G</th>\n",
       "      <th>...</th>\n",
       "      <th>Att.1</th>\n",
       "      <th>Yds.1</th>\n",
       "      <th>TD.1</th>\n",
       "      <th>Rec</th>\n",
       "      <th>Yds.2</th>\n",
       "      <th>TD.2</th>\n",
       "      <th>Int.1</th>\n",
       "      <th>Sk</th>\n",
       "      <th>College/Univ</th>\n",
       "      <th>-9999</th>\n",
       "    </tr>\n",
       "    <tr>\n",
       "      <th>Player</th>\n",
       "      <th></th>\n",
       "      <th></th>\n",
       "      <th></th>\n",
       "      <th></th>\n",
       "      <th></th>\n",
       "      <th></th>\n",
       "      <th></th>\n",
       "      <th></th>\n",
       "      <th></th>\n",
       "      <th></th>\n",
       "      <th></th>\n",
       "      <th></th>\n",
       "      <th></th>\n",
       "      <th></th>\n",
       "      <th></th>\n",
       "      <th></th>\n",
       "      <th></th>\n",
       "      <th></th>\n",
       "      <th></th>\n",
       "      <th></th>\n",
       "      <th></th>\n",
       "    </tr>\n",
       "  </thead>\n",
       "  <tbody>\n",
       "    <tr>\n",
       "      <th>Ricky Pearsall</th>\n",
       "      <td>2024</td>\n",
       "      <td>1</td>\n",
       "      <td>31</td>\n",
       "      <td>WR</td>\n",
       "      <td>2024.0</td>\n",
       "      <td>0</td>\n",
       "      <td>0</td>\n",
       "      <td>0</td>\n",
       "      <td>0.0</td>\n",
       "      <td>6.0</td>\n",
       "      <td>...</td>\n",
       "      <td>1.0</td>\n",
       "      <td>39.0</td>\n",
       "      <td>0.0</td>\n",
       "      <td>11.0</td>\n",
       "      <td>132.0</td>\n",
       "      <td>1.0</td>\n",
       "      <td>NaN</td>\n",
       "      <td>NaN</td>\n",
       "      <td>Florida</td>\n",
       "      <td>PearRi00</td>\n",
       "    </tr>\n",
       "    <tr>\n",
       "      <th>Renardo Green</th>\n",
       "      <td>2024</td>\n",
       "      <td>2</td>\n",
       "      <td>64</td>\n",
       "      <td>DB</td>\n",
       "      <td>2024.0</td>\n",
       "      <td>0</td>\n",
       "      <td>0</td>\n",
       "      <td>0</td>\n",
       "      <td>0.0</td>\n",
       "      <td>12.0</td>\n",
       "      <td>...</td>\n",
       "      <td>NaN</td>\n",
       "      <td>NaN</td>\n",
       "      <td>0.0</td>\n",
       "      <td>NaN</td>\n",
       "      <td>NaN</td>\n",
       "      <td>0.0</td>\n",
       "      <td>1.0</td>\n",
       "      <td>NaN</td>\n",
       "      <td>Florida St.</td>\n",
       "      <td>GreeRe00</td>\n",
       "    </tr>\n",
       "    <tr>\n",
       "      <th>Dominick Puni</th>\n",
       "      <td>2024</td>\n",
       "      <td>3</td>\n",
       "      <td>86</td>\n",
       "      <td>OL</td>\n",
       "      <td>2024.0</td>\n",
       "      <td>0</td>\n",
       "      <td>0</td>\n",
       "      <td>1</td>\n",
       "      <td>0.0</td>\n",
       "      <td>12.0</td>\n",
       "      <td>...</td>\n",
       "      <td>NaN</td>\n",
       "      <td>NaN</td>\n",
       "      <td>0.0</td>\n",
       "      <td>0.0</td>\n",
       "      <td>-3.0</td>\n",
       "      <td>0.0</td>\n",
       "      <td>NaN</td>\n",
       "      <td>NaN</td>\n",
       "      <td>Kansas</td>\n",
       "      <td>PuniDo00</td>\n",
       "    </tr>\n",
       "    <tr>\n",
       "      <th>Malik Mustapha</th>\n",
       "      <td>2024</td>\n",
       "      <td>4</td>\n",
       "      <td>124</td>\n",
       "      <td>DB</td>\n",
       "      <td>2024.0</td>\n",
       "      <td>0</td>\n",
       "      <td>0</td>\n",
       "      <td>1</td>\n",
       "      <td>0.0</td>\n",
       "      <td>12.0</td>\n",
       "      <td>...</td>\n",
       "      <td>NaN</td>\n",
       "      <td>NaN</td>\n",
       "      <td>0.0</td>\n",
       "      <td>NaN</td>\n",
       "      <td>NaN</td>\n",
       "      <td>0.0</td>\n",
       "      <td>1.0</td>\n",
       "      <td>NaN</td>\n",
       "      <td>Wake Forest</td>\n",
       "      <td>MustMa00</td>\n",
       "    </tr>\n",
       "    <tr>\n",
       "      <th>Isaac Guerendo</th>\n",
       "      <td>2024</td>\n",
       "      <td>4</td>\n",
       "      <td>129</td>\n",
       "      <td>RB</td>\n",
       "      <td>2024.0</td>\n",
       "      <td>0</td>\n",
       "      <td>0</td>\n",
       "      <td>0</td>\n",
       "      <td>0.0</td>\n",
       "      <td>12.0</td>\n",
       "      <td>...</td>\n",
       "      <td>42.0</td>\n",
       "      <td>246.0</td>\n",
       "      <td>2.0</td>\n",
       "      <td>5.0</td>\n",
       "      <td>19.0</td>\n",
       "      <td>0.0</td>\n",
       "      <td>NaN</td>\n",
       "      <td>NaN</td>\n",
       "      <td>Louisville</td>\n",
       "      <td>GuerIs00</td>\n",
       "    </tr>\n",
       "  </tbody>\n",
       "</table>\n",
       "<p>5 rows × 25 columns</p>\n",
       "</div>"
      ],
      "text/plain": [
       "                Year  Rnd  Pick Pos      To  AP1  PB  St  wAV     G  ...  \\\n",
       "Player                                                               ...   \n",
       "Ricky Pearsall  2024    1    31  WR  2024.0    0   0   0  0.0   6.0  ...   \n",
       "Renardo Green   2024    2    64  DB  2024.0    0   0   0  0.0  12.0  ...   \n",
       "Dominick Puni   2024    3    86  OL  2024.0    0   0   1  0.0  12.0  ...   \n",
       "Malik Mustapha  2024    4   124  DB  2024.0    0   0   1  0.0  12.0  ...   \n",
       "Isaac Guerendo  2024    4   129  RB  2024.0    0   0   0  0.0  12.0  ...   \n",
       "\n",
       "                Att.1  Yds.1  TD.1   Rec  Yds.2  TD.2  Int.1  Sk  \\\n",
       "Player                                                             \n",
       "Ricky Pearsall    1.0   39.0   0.0  11.0  132.0   1.0    NaN NaN   \n",
       "Renardo Green     NaN    NaN   0.0   NaN    NaN   0.0    1.0 NaN   \n",
       "Dominick Puni     NaN    NaN   0.0   0.0   -3.0   0.0    NaN NaN   \n",
       "Malik Mustapha    NaN    NaN   0.0   NaN    NaN   0.0    1.0 NaN   \n",
       "Isaac Guerendo   42.0  246.0   2.0   5.0   19.0   0.0    NaN NaN   \n",
       "\n",
       "                College/Univ     -9999  \n",
       "Player                                  \n",
       "Ricky Pearsall       Florida  PearRi00  \n",
       "Renardo Green    Florida St.  GreeRe00  \n",
       "Dominick Puni         Kansas  PuniDo00  \n",
       "Malik Mustapha   Wake Forest  MustMa00  \n",
       "Isaac Guerendo    Louisville  GuerIs00  \n",
       "\n",
       "[5 rows x 25 columns]"
      ]
     },
     "execution_count": 4,
     "metadata": {},
     "output_type": "execute_result"
    }
   ],
   "source": [
    "myDataFrame = pd.read_csv(\"./data/niners.csv\", index_col= \"Player\")\n",
    "myDataFrame.head()"
   ]
  },
  {
   "cell_type": "code",
   "execution_count": 6,
   "id": "2a8872dc-e368-4307-94aa-370f728a5304",
   "metadata": {},
   "outputs": [
    {
     "data": {
      "text/plain": [
       "Player\n",
       "Ricky Pearsall     WR\n",
       "Renardo Green      DB\n",
       "Dominick Puni      OL\n",
       "Malik Mustapha     DB\n",
       "Isaac Guerendo     RB\n",
       "                   ..\n",
       "DeAndre Smelter    WR\n",
       "Bradley Pinion      P\n",
       "Ian Silberman       G\n",
       "Trent Brown         G\n",
       "Rory Anderson      TE\n",
       "Name: Pos, Length: 87, dtype: object"
      ]
     },
     "execution_count": 6,
     "metadata": {},
     "output_type": "execute_result"
    }
   ],
   "source": [
    "position = myDataFrame [\"Pos\"]\n",
    "position"
   ]
  },
  {
   "cell_type": "code",
   "execution_count": 8,
   "id": "ce541ea0-b37b-489b-b60e-5635d49421de",
   "metadata": {},
   "outputs": [
    {
     "data": {
      "text/plain": [
       "Player\n",
       "Ricky Pearsall       6.0\n",
       "Renardo Green       12.0\n",
       "Dominick Puni       12.0\n",
       "Malik Mustapha      12.0\n",
       "Isaac Guerendo      12.0\n",
       "                   ...  \n",
       "DeAndre Smelter      2.0\n",
       "Bradley Pinion     157.0\n",
       "Ian Silberman        3.0\n",
       "Trent Brown        103.0\n",
       "Rory Anderson        NaN\n",
       "Name: G, Length: 87, dtype: float64"
      ]
     },
     "execution_count": 8,
     "metadata": {},
     "output_type": "execute_result"
    }
   ],
   "source": [
    "games = myDataFrame [\"G\"]\n",
    "games"
   ]
  },
  {
   "cell_type": "code",
   "execution_count": 10,
   "id": "5646a58e-ef8e-4309-b1e9-7b9fd3688954",
   "metadata": {},
   "outputs": [
    {
     "data": {
      "text/plain": [
       "Player\n",
       "Prince Charles Iworah    1.0\n",
       "DeAndre Smelter          2.0\n",
       "Tim Harris               3.0\n",
       "Ian Silberman            3.0\n",
       "John Theus               4.0\n",
       "Name: G, dtype: float64"
      ]
     },
     "execution_count": 10,
     "metadata": {},
     "output_type": "execute_result"
    }
   ],
   "source": [
    "sortedGames = games.sort_values()\n",
    "sortedGames.head()"
   ]
  },
  {
   "cell_type": "code",
   "execution_count": 12,
   "id": "631af88c-46aa-4e7a-a5cf-76b046bb4b8f",
   "metadata": {},
   "outputs": [
    {
     "data": {
      "text/plain": [
       "157.0"
      ]
     },
     "execution_count": 12,
     "metadata": {},
     "output_type": "execute_result"
    }
   ],
   "source": [
    "myDataFrame[\"G\"].max()"
   ]
  },
  {
   "cell_type": "code",
   "execution_count": 14,
   "id": "24f21ab8-b1d8-47d4-9683-afa499f11b38",
   "metadata": {},
   "outputs": [
    {
     "data": {
      "text/html": [
       "<div>\n",
       "<style scoped>\n",
       "    .dataframe tbody tr th:only-of-type {\n",
       "        vertical-align: middle;\n",
       "    }\n",
       "\n",
       "    .dataframe tbody tr th {\n",
       "        vertical-align: top;\n",
       "    }\n",
       "\n",
       "    .dataframe thead th {\n",
       "        text-align: right;\n",
       "    }\n",
       "</style>\n",
       "<table border=\"1\" class=\"dataframe\">\n",
       "  <thead>\n",
       "    <tr style=\"text-align: right;\">\n",
       "      <th></th>\n",
       "      <th>G</th>\n",
       "      <th>Pos</th>\n",
       "      <th>Rnd</th>\n",
       "      <th>Year</th>\n",
       "      <th>Pick</th>\n",
       "    </tr>\n",
       "    <tr>\n",
       "      <th>Player</th>\n",
       "      <th></th>\n",
       "      <th></th>\n",
       "      <th></th>\n",
       "      <th></th>\n",
       "      <th></th>\n",
       "    </tr>\n",
       "  </thead>\n",
       "  <tbody>\n",
       "    <tr>\n",
       "      <th>Ricky Pearsall</th>\n",
       "      <td>6.0</td>\n",
       "      <td>WR</td>\n",
       "      <td>1</td>\n",
       "      <td>2024</td>\n",
       "      <td>31</td>\n",
       "    </tr>\n",
       "    <tr>\n",
       "      <th>Renardo Green</th>\n",
       "      <td>12.0</td>\n",
       "      <td>DB</td>\n",
       "      <td>2</td>\n",
       "      <td>2024</td>\n",
       "      <td>64</td>\n",
       "    </tr>\n",
       "    <tr>\n",
       "      <th>Dominick Puni</th>\n",
       "      <td>12.0</td>\n",
       "      <td>OL</td>\n",
       "      <td>3</td>\n",
       "      <td>2024</td>\n",
       "      <td>86</td>\n",
       "    </tr>\n",
       "    <tr>\n",
       "      <th>Malik Mustapha</th>\n",
       "      <td>12.0</td>\n",
       "      <td>DB</td>\n",
       "      <td>4</td>\n",
       "      <td>2024</td>\n",
       "      <td>124</td>\n",
       "    </tr>\n",
       "    <tr>\n",
       "      <th>Isaac Guerendo</th>\n",
       "      <td>12.0</td>\n",
       "      <td>RB</td>\n",
       "      <td>4</td>\n",
       "      <td>2024</td>\n",
       "      <td>129</td>\n",
       "    </tr>\n",
       "    <tr>\n",
       "      <th>...</th>\n",
       "      <td>...</td>\n",
       "      <td>...</td>\n",
       "      <td>...</td>\n",
       "      <td>...</td>\n",
       "      <td>...</td>\n",
       "    </tr>\n",
       "    <tr>\n",
       "      <th>DeAndre Smelter</th>\n",
       "      <td>2.0</td>\n",
       "      <td>WR</td>\n",
       "      <td>4</td>\n",
       "      <td>2015</td>\n",
       "      <td>132</td>\n",
       "    </tr>\n",
       "    <tr>\n",
       "      <th>Bradley Pinion</th>\n",
       "      <td>157.0</td>\n",
       "      <td>P</td>\n",
       "      <td>5</td>\n",
       "      <td>2015</td>\n",
       "      <td>165</td>\n",
       "    </tr>\n",
       "    <tr>\n",
       "      <th>Ian Silberman</th>\n",
       "      <td>3.0</td>\n",
       "      <td>G</td>\n",
       "      <td>6</td>\n",
       "      <td>2015</td>\n",
       "      <td>190</td>\n",
       "    </tr>\n",
       "    <tr>\n",
       "      <th>Trent Brown</th>\n",
       "      <td>103.0</td>\n",
       "      <td>G</td>\n",
       "      <td>7</td>\n",
       "      <td>2015</td>\n",
       "      <td>244</td>\n",
       "    </tr>\n",
       "    <tr>\n",
       "      <th>Rory Anderson</th>\n",
       "      <td>NaN</td>\n",
       "      <td>TE</td>\n",
       "      <td>7</td>\n",
       "      <td>2015</td>\n",
       "      <td>254</td>\n",
       "    </tr>\n",
       "  </tbody>\n",
       "</table>\n",
       "<p>87 rows × 5 columns</p>\n",
       "</div>"
      ],
      "text/plain": [
       "                     G Pos  Rnd  Year  Pick\n",
       "Player                                     \n",
       "Ricky Pearsall     6.0  WR    1  2024    31\n",
       "Renardo Green     12.0  DB    2  2024    64\n",
       "Dominick Puni     12.0  OL    3  2024    86\n",
       "Malik Mustapha    12.0  DB    4  2024   124\n",
       "Isaac Guerendo    12.0  RB    4  2024   129\n",
       "...                ...  ..  ...   ...   ...\n",
       "DeAndre Smelter    2.0  WR    4  2015   132\n",
       "Bradley Pinion   157.0   P    5  2015   165\n",
       "Ian Silberman      3.0   G    6  2015   190\n",
       "Trent Brown      103.0   G    7  2015   244\n",
       "Rory Anderson      NaN  TE    7  2015   254\n",
       "\n",
       "[87 rows x 5 columns]"
      ]
     },
     "execution_count": 14,
     "metadata": {},
     "output_type": "execute_result"
    }
   ],
   "source": [
    "draft_columns = [ 'G', 'Pos', 'Rnd', 'Year', 'Pick']\n",
    "myDataFrame[draft_columns]"
   ]
  },
  {
   "cell_type": "code",
   "execution_count": 18,
   "id": "835d095c-cae4-4467-95f4-1a001f0f44ea",
   "metadata": {},
   "outputs": [
    {
     "name": "stdout",
     "output_type": "stream",
     "text": [
      "Rnd\n",
      "1    66.000000\n",
      "2    49.333333\n",
      "3    42.923077\n",
      "4    49.600000\n",
      "5    59.642857\n",
      "6    31.000000\n",
      "7    33.727273\n",
      "Name: G, dtype: float64\n"
     ]
    }
   ],
   "source": [
    "\n",
    "average_gamesround = myDataFrame.groupby(['Rnd'])['G'].mean()\n",
    "\n",
    "# Display the result\n",
    "print(average_gamesround)\n"
   ]
  },
  {
   "cell_type": "code",
   "execution_count": 20,
   "id": "b5a54d0a-68ff-47a8-9c33-460f3899b6a6",
   "metadata": {},
   "outputs": [
    {
     "name": "stdout",
     "output_type": "stream",
     "text": [
      "Pos\n",
      "CB      38.800000\n",
      "DB      27.250000\n",
      "DE      95.000000\n",
      "DT      63.666667\n",
      "G       43.666667\n",
      "K       26.000000\n",
      "LB      28.000000\n",
      "OL      26.000000\n",
      "OLB     44.200000\n",
      "P      124.500000\n",
      "QB      25.750000\n",
      "RB      34.200000\n",
      "S       48.333333\n",
      "T       53.600000\n",
      "TE      69.200000\n",
      "WR      39.333333\n",
      "Name: G, dtype: float64\n"
     ]
    }
   ],
   "source": [
    "\n",
    "average_gamesposition = myDataFrame.groupby(['Pos'])['G'].mean()\n",
    "\n",
    "# Display the result\n",
    "print(average_gamesposition)"
   ]
  },
  {
   "cell_type": "code",
   "execution_count": 22,
   "id": "59455815-5a06-4b07-88f5-57aa96d8dfce",
   "metadata": {},
   "outputs": [
    {
     "name": "stdout",
     "output_type": "stream",
     "text": [
      "Number of first-round picks: 11\n"
     ]
    }
   ],
   "source": [
    "# Filter for first-round picks\n",
    "first_round_picks = myDataFrame[myDataFrame['Rnd'] == 1]\n",
    "\n",
    "# Count the number of first-round picks\n",
    "num_first_round_picks = len(first_round_picks)\n",
    "\n",
    "print(f\"Number of first-round picks: {num_first_round_picks}\")\n"
   ]
  },
  {
   "cell_type": "code",
   "execution_count": 24,
   "id": "c700855a-9e69-4df7-9e57-717bae4f429f",
   "metadata": {},
   "outputs": [],
   "source": [
    "position_groups = {\n",
    "    'C': ('Lineman', 'Offense'), 'DE': ('Lineman', 'Defense'), 'DL': ('Lineman', 'Defense'),\n",
    "    'DT': ('Lineman', 'Defense'), 'FB': ('Lineman', 'Offense'), 'G': ('Lineman', 'Offense'),\n",
    "    'OL': ('Lineman', 'Offense'), 'T': ('Lineman', 'Offense'),\n",
    "\n",
    "    'LB': ('Mids', 'Defense'), 'OLB': ('Mids', 'Defense'),'ILB': ('Mids', 'Defense'),\n",
    "    'P': ('Mids', 'Special Teams'), 'K': ('Mids', 'Special Teams'),'LS': ('Mids', 'Special Teams'),'TE': ('Mids', 'Offense'), 'RB': ('Mids', 'Offense'),\n",
    "\n",
    "    'CB': ('Skills', 'Defense'), 'DB': ('Skills', 'Defense'),\n",
    "    'QB': ('Skills', 'Offense'),\n",
    "    'S': ('Skills', 'Defense'), 'SAF': ('Skills', 'Defense'),\n",
    "    'WR': ('Skills', 'Offense')\n",
    "}\n"
   ]
  },
  {
   "cell_type": "code",
   "execution_count": 28,
   "id": "44cbf7fa-021d-4773-9c17-1499e551aa82",
   "metadata": {},
   "outputs": [
    {
     "data": {
      "text/plain": [
       "{'C': ('Lineman', 'Offense'),\n",
       " 'DE': ('Lineman', 'Defense'),\n",
       " 'DL': ('Lineman', 'Defense'),\n",
       " 'DT': ('Lineman', 'Defense'),\n",
       " 'FB': ('Lineman', 'Offense'),\n",
       " 'G': ('Lineman', 'Offense'),\n",
       " 'OL': ('Lineman', 'Offense'),\n",
       " 'T': ('Lineman', 'Offense'),\n",
       " 'LB': ('Mids', 'Defense'),\n",
       " 'OLB': ('Mids', 'Defense'),\n",
       " 'ILB': ('Mids', 'Defense'),\n",
       " 'P': ('Mids', 'Special Teams'),\n",
       " 'K': ('Mids', 'Special Teams'),\n",
       " 'LS': ('Mids', 'Special Teams'),\n",
       " 'TE': ('Mids', 'Offense'),\n",
       " 'RB': ('Mids', 'Offense'),\n",
       " 'CB': ('Skills', 'Defense'),\n",
       " 'DB': ('Skills', 'Defense'),\n",
       " 'QB': ('Skills', 'Offense'),\n",
       " 'S': ('Skills', 'Defense'),\n",
       " 'SAF': ('Skills', 'Defense'),\n",
       " 'WR': ('Skills', 'Offense')}"
      ]
     },
     "execution_count": 28,
     "metadata": {},
     "output_type": "execute_result"
    }
   ],
   "source": [
    "position_groups"
   ]
  },
  {
   "cell_type": "code",
   "execution_count": 30,
   "id": "53aba106-a4b2-4176-af48-2c1ae8e8f100",
   "metadata": {},
   "outputs": [],
   "source": [
    "# Map positions to group and side\n",
    "myDataFrame['Group'] = myDataFrame['Pos'].map(lambda x: position_groups[x][0])\n",
    "myDataFrame['Side'] = myDataFrame['Pos'].map(lambda x: position_groups[x][1])\n"
   ]
  },
  {
   "cell_type": "code",
   "execution_count": 32,
   "id": "552eaf73-bcbe-416c-8877-f9a1abcc8afb",
   "metadata": {},
   "outputs": [
    {
     "name": "stdout",
     "output_type": "stream",
     "text": [
      "Group    Side         \n",
      "Lineman  Defense          10\n",
      "         Offense          14\n",
      "Mids     Defense           9\n",
      "         Offense          14\n",
      "         Special Teams     3\n",
      "Skills   Defense          20\n",
      "         Offense          17\n",
      "dtype: int64\n"
     ]
    }
   ],
   "source": [
    "grouped_counts = myDataFrame.groupby(['Group', 'Side']).size()\n",
    "print(grouped_counts)\n"
   ]
  },
  {
   "cell_type": "code",
   "execution_count": 34,
   "id": "7ba87587-5484-4455-b04f-17d5b00a68e5",
   "metadata": {},
   "outputs": [
    {
     "name": "stdout",
     "output_type": "stream",
     "text": [
      "Percentage of players who played more than 34 games: 50.57%\n"
     ]
    }
   ],
   "source": [
    "# Filter for players who played more than 34 games\n",
    "players_above_34 = myDataFrame[myDataFrame['G'] > 34]\n",
    "\n",
    "total_players = len(myDataFrame)\n",
    "\n",
    "num_above_34 = len(players_above_34)\n",
    "\n",
    "percentage_above_34 = (num_above_34 / total_players) * 100\n",
    "print(f\"Percentage of players who played more than 34 games: {percentage_above_34:.2f}%\")\n",
    "\n"
   ]
  },
  {
   "cell_type": "code",
   "execution_count": 36,
   "id": "26d1fed5-e2a6-4f6f-8b79-c6681a672808",
   "metadata": {},
   "outputs": [
    {
     "name": "stdout",
     "output_type": "stream",
     "text": [
      "Rnd  Group  \n",
      "1    Lineman     85.714286\n",
      "     Mids              NaN\n",
      "     Skills      33.333333\n",
      "2    Lineman    100.000000\n",
      "     Mids              NaN\n",
      "     Skills      75.000000\n",
      "3    Lineman           NaN\n",
      "     Mids        66.666667\n",
      "     Skills      50.000000\n",
      "4    Lineman    100.000000\n",
      "     Mids       100.000000\n",
      "     Skills      28.571429\n",
      "5    Lineman     60.000000\n",
      "     Mids        75.000000\n",
      "     Skills      83.333333\n",
      "6    Lineman     33.333333\n",
      "     Mids        25.000000\n",
      "     Skills      14.285714\n",
      "7    Lineman     50.000000\n",
      "     Mids              NaN\n",
      "     Skills      57.142857\n",
      "dtype: float64\n",
      "Rnd  Group  \n",
      "1    Lineman    6\n",
      "     Skills     1\n",
      "2    Lineman    1\n",
      "     Skills     3\n",
      "3    Mids       2\n",
      "     Skills     5\n",
      "4    Lineman    2\n",
      "     Mids       2\n",
      "     Skills     2\n",
      "5    Lineman    3\n",
      "     Mids       3\n",
      "     Skills     5\n",
      "6    Lineman    2\n",
      "     Mids       1\n",
      "     Skills     1\n",
      "7    Lineman    1\n",
      "     Skills     4\n",
      "dtype: int64\n"
     ]
    }
   ],
   "source": [
    "# Map positions to group categories (Bigs, Mids, Skills)\n",
    "position_groups = {\n",
    "    'C': 'Lineman', 'DE': 'Lineman', 'DL': 'Lineman', 'DT': 'Lineman',\n",
    "    'FB': 'Lineman', 'G': 'Lineman', 'OL': 'Lineman', 'T': 'Lineman',\n",
    "    'LB': 'Mids', 'OLB': 'Mids', 'P': 'Mids', 'TE': 'Mids',\n",
    "    'CB': 'Skills', 'DB': 'Skills', 'QB': 'Skills',\n",
    "    'RB': 'Skills', 'S': 'Skills', 'SAF': 'Skills', 'WR': 'Skills'\n",
    "}\n",
    "\n",
    "# Add the 'Group' column to the DataFrame\n",
    "myDataFrame['Group'] = myDataFrame['Pos'].map(position_groups)\n",
    "\n",
    "# Filter for players who played more than 34 games\n",
    "players_above_34 = myDataFrame[myDataFrame['G'] > 34]\n",
    "\n",
    "# Group by round and position group to calculate the number of players who played more than 34 games\n",
    "grouped_above_34 = players_above_34.groupby(['Rnd', 'Group']).size()\n",
    "\n",
    "# Group by round and position group to get total number of players\n",
    "total_grouped = myDataFrame.groupby(['Rnd', 'Group']).size()\n",
    "\n",
    "# Calculate the percentage of players who played more than 34 games by round and group\n",
    "percentage_above_34 = (grouped_above_34 / total_grouped) * 100\n",
    "print(percentage_above_34)\n",
    "\n",
    "\n",
    "above34count = (grouped_above_34)\n",
    "print(above34count)\n",
    "\n"
   ]
  },
  {
   "cell_type": "code",
   "execution_count": null,
   "id": "a3bfffb4-c756-439b-904a-9ce7e4ea1686",
   "metadata": {},
   "outputs": [],
   "source": []
  },
  {
   "cell_type": "code",
   "execution_count": null,
   "id": "ab33686a-c40d-410f-908e-e84f36b2fd69",
   "metadata": {},
   "outputs": [],
   "source": []
  }
 ],
 "metadata": {
  "kernelspec": {
   "display_name": "Python 3 (ipykernel)",
   "language": "python",
   "name": "python3"
  },
  "language_info": {
   "codemirror_mode": {
    "name": "ipython",
    "version": 3
   },
   "file_extension": ".py",
   "mimetype": "text/x-python",
   "name": "python",
   "nbconvert_exporter": "python",
   "pygments_lexer": "ipython3",
   "version": "3.11.7"
  }
 },
 "nbformat": 4,
 "nbformat_minor": 5
}
